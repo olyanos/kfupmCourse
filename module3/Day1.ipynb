{
 "cells": [
  {
   "cell_type": "markdown",
   "metadata": {},
   "source": [
    "# examples"
   ]
  },
  {
   "cell_type": "code",
   "execution_count": null,
   "metadata": {},
   "outputs": [],
   "source": [
    "# coin flipping chi-square test\n",
    "# the null hypo is that the sample is representative.\n",
    "#  i.e there is no statistical significance bewteen the sample and the population\n",
    "from scipy.stats import chisquare\n",
    "expected = [25,25]\n",
    "observation = [32,18]\n",
    "stat, p = chisquare(expected,observation)\n",
    "print('Chi result=',stat)\n",
    "print('p value=', p)\n",
    "\n",
    "alpha = 0.05 \n",
    "if p<=alpha:\n",
    "    print('Reject H0')\n",
    "else:\n",
    "    print('Accept H0')\n"
   ]
  },
  {
   "cell_type": "code",
   "execution_count": null,
   "metadata": {},
   "outputs": [],
   "source": [
    "import numpy as np\n",
    "from scipy.stats import mannwhitneyu\n",
    "# the hypothesy is that no sign diff between the two salaries\n",
    "bs_salaries = np.array([30221,39907,40324,42198])\n",
    "ms_salaries = np.array([44330,52404,41034])\n",
    "\n",
    "stat, p = mannwhitneyu(bs_salaries,ms_salaries)\n",
    "print('stat=%.3f, p=%.3f' %(stat,p))\n",
    "\n",
    "alpha = 0.05\n",
    "if p>alpha:\n",
    "    print('Same distribution (fail to reject H0)')\n",
    "else:\n",
    "    print('Different distribution (Accept to reject H0)')\n"
   ]
  },
  {
   "cell_type": "markdown",
   "metadata": {},
   "source": [
    "## Q1"
   ]
  },
  {
   "cell_type": "code",
   "execution_count": null,
   "metadata": {},
   "outputs": [],
   "source": [
    "import pandas as pd\n",
    "from scipy import stats\n",
    "from scipy.stats import mannwhitneyu\n",
    "\n",
    "ex_df = pd.read_csv('Files/ExperimentData.csv')\n",
    "# first check if data is normal dirtubted\n",
    "alpha = 0.05\n",
    "stats, p = stats.shapiro(ex_df[\"Error Rate\"])\n",
    "print('p=',p)\n",
    "if p > alpha:\n",
    "    print('Fail to reject H0 (sample looks normally distributed)')\n",
    "else:\n",
    "    print('Reject H0 (sampole does not look normally distrbuted)')\n",
    "\n",
    "# H0: There is no difference in error rate means between Group A and Group B\n",
    "A = ex_df[ex_df[\"Group\"] == 'A']\n",
    "B = ex_df[ex_df[\"Group\"] == 'B']\n",
    "stat, p = mannwhitneyu(A[\"Error Rate\"],B[\"Error Rate\"])\n",
    "print('Chi result=',stat)\n",
    "print('p value=', p)\n",
    "\n",
    "alpha = 0.05 \n",
    "if p<=alpha:\n",
    "    print('Reject H0')\n",
    "else:\n",
    "    print('Accept H0')"
   ]
  },
  {
   "cell_type": "markdown",
   "metadata": {},
   "source": [
    "## Q2"
   ]
  },
  {
   "cell_type": "code",
   "execution_count": null,
   "metadata": {},
   "outputs": [],
   "source": [
    "from scipy.stats import pearsonr\n",
    "import numpy as np\n",
    "data1 = np.array([44.4, 45.9, 41.9, 53.3, 44.7, 44.1, 50.7, 45.2, 46, 47, 48, 60.1])\n",
    "data2 = np.array([2.6, 3.1, 2.5, 5.0, 3.6, 4.0, 5.2, 2.8, 4, 4.1, 4.5, 3.8])\n",
    "\n",
    "# part a\n",
    "corr, _ = pearsonr(data1,data2)\n",
    "print('corr=',corr)\n",
    "\n",
    "# part b\n",
    "from numpy.random import rand\n",
    "from numpy.random import seed\n",
    "from matplotlib import pyplot\n",
    "#seed random number generator seed(1)\n",
    "# prepare data\n",
    "data1 = rand(1000) * 20\n",
    "data2 = data1 + (rand(1000) * 10)\n",
    "# part b\n",
    "corr, _ = pearsonr(data1,data2)\n",
    "print('corr between the random arrays=',corr)\n",
    "\n",
    "\n",
    "np.random.seed(1)\n",
    "data1 = rand(1000) * 20\n",
    "data2 = data1 + (rand(1000) * 10)\n",
    "# part b\n",
    "corr, _ = pearsonr(data1,data2)\n",
    "print('corr between the random arrays=',corr)"
   ]
  },
  {
   "cell_type": "markdown",
   "metadata": {},
   "source": [
    "## Q3"
   ]
  },
  {
   "cell_type": "code",
   "execution_count": 6,
   "metadata": {},
   "outputs": [
    {
     "name": "stdout",
     "output_type": "stream",
     "text": [
      "p= 0.0022996424231678247\n",
      "Reject H0 (sampole does not look normally distrbuted)\n",
      "p= 0.29663571339830197\n",
      "Fail to reject H0 (sample looks normally distributed)\n"
     ]
    }
   ],
   "source": [
    "import pandas as pd\n",
    "from scipy import stats\n",
    "from scipy.stats.mstats import kruskal\n",
    "from scipy.stats import chisquare\n",
    "from scipy.stats import mannwhitneyu\n",
    "\n",
    "\n",
    "cl_df = pd.read_csv('Files/ClassifiersAccuracy.csv')\n",
    "\n",
    "alpha = 0.05\n",
    "stat, p = stats.shapiro(cl_df[\"Accuracy\"])\n",
    "print('p=',p)\n",
    "if p > alpha:\n",
    "    print('Fail to reject H0 (sample looks normally distributed)')\n",
    "else:\n",
    "    print('Reject H0 (sampole does not look normally distrbuted)')\n",
    "\n",
    "\n",
    "# H0: There is no difference in accuracy means between DT, SVM and ANN\n",
    "DT = cl_df[cl_df[\"Classifier\"] == 'DT']\n",
    "SVM = cl_df[cl_df[\"Classifier\"] == 'SVM']\n",
    "ANN = cl_df[cl_df[\"Classifier\"] == 'ANN']\n",
    "\n",
    "stat, p = kruskal(DT['Accuracy'].values, SVM['Accuracy'].values, ANN['Accuracy'].values)\n",
    "#stat, p = chisquare(DT['Accuracy'],SVM['Accuracy'],ANN['Accuracy'])\n",
    "alpha = 0.05\n",
    "print('p=',p)\n",
    "if p > alpha:\n",
    "    print('Fail to reject H0 (sample looks normally distributed)')\n",
    "else:\n",
    "    print('Reject H0 (sampole does not look normally distrbuted)')"
   ]
  }
 ],
 "metadata": {
  "kernelspec": {
   "display_name": "Python 3",
   "language": "python",
   "name": "python3"
  },
  "language_info": {
   "codemirror_mode": {
    "name": "ipython",
    "version": 3
   },
   "file_extension": ".py",
   "mimetype": "text/x-python",
   "name": "python",
   "nbconvert_exporter": "python",
   "pygments_lexer": "ipython3",
   "version": "3.11.5"
  }
 },
 "nbformat": 4,
 "nbformat_minor": 2
}
