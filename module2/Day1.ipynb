{
 "cells": [
  {
   "cell_type": "markdown",
   "metadata": {},
   "source": [
    "# Day 1"
   ]
  },
  {
   "cell_type": "markdown",
   "metadata": {},
   "source": [
    "## Q1"
   ]
  },
  {
   "cell_type": "code",
   "execution_count": 16,
   "metadata": {},
   "outputs": [
    {
     "name": "stdout",
     "output_type": "stream",
     "text": [
      "[0.2837263  0.98967915 0.60245045 0.91327982 0.85215042 0.54035838\n",
      " 0.86543852 0.85902437 0.49158311 0.6389643 ]\n",
      "[[0.2837263  0.98967915]\n",
      " [0.60245045 0.91327982]\n",
      " [0.85215042 0.54035838]\n",
      " [0.86543852 0.85902437]\n",
      " [0.49158311 0.6389643 ]]\n",
      "7.036654830548256\n",
      "0.7036654830548257\n",
      "0.9896791492494231\n",
      "1\n",
      "0\n",
      "[[0.2837263  0.98967915]\n",
      " [0.60245045 0.91327982]]\n"
     ]
    }
   ],
   "source": [
    "import numpy as np\n",
    "# 1\n",
    "my_array = np.random.rand(10)\n",
    "# 2\n",
    "print(my_array)\n",
    "# 3 and 4\n",
    "print(my_array.reshape(5,2))\n",
    "my_array=my_array.reshape(5,2)\n",
    "# 5 \n",
    "print(my_array.sum())\n",
    "# 6\n",
    "print(my_array.mean())\n",
    "# 7\n",
    "print(np.max(my_array))\n",
    "# 8\n",
    "print(np.argmax(my_array))\n",
    "# 9\n",
    "print(np.argmin(my_array))\n",
    "# 10\n",
    "new_array = my_array[0:2,:]\n",
    "print(new_array)"
   ]
  },
  {
   "cell_type": "markdown",
   "metadata": {},
   "source": [
    "## Q2"
   ]
  },
  {
   "cell_type": "code",
   "execution_count": 32,
   "metadata": {},
   "outputs": [
    {
     "name": "stdout",
     "output_type": "stream",
     "text": [
      "[2 3 4 5]\n",
      "[1]\n"
     ]
    }
   ],
   "source": [
    "a = np.array([1,2,3,4,5])\n",
    "b = np.array([2,3,4,5,6])\n",
    "# 1\n",
    "print(np.intersect1d(a,b))\n",
    "# 2\n",
    "print(a[~np.in1d(a, b)])\n"
   ]
  },
  {
   "cell_type": "markdown",
   "metadata": {},
   "source": [
    "## Q3"
   ]
  },
  {
   "cell_type": "code",
   "execution_count": 62,
   "metadata": {},
   "outputs": [
    {
     "data": {
      "text/plain": [
       "array([[1., 1., 1., 1.],\n",
       "       [1., 0., 0., 1.],\n",
       "       [1., 0., 0., 1.],\n",
       "       [1., 1., 1., 1.]])"
      ]
     },
     "execution_count": 62,
     "metadata": {},
     "output_type": "execute_result"
    }
   ],
   "source": [
    "a = np.ones((4,4))\n",
    "a[1:3,1:3] = 0\n",
    "a"
   ]
  },
  {
   "cell_type": "markdown",
   "metadata": {},
   "source": [
    "## Q4"
   ]
  },
  {
   "cell_type": "code",
   "execution_count": 66,
   "metadata": {},
   "outputs": [
    {
     "data": {
      "text/plain": [
       "array([[94., 88., 78., 97.],\n",
       "       [92., 84., 80., 95.],\n",
       "       [88., 40., 72., 88.],\n",
       "       [83., 87., 45., 91.],\n",
       "       [78., 77., 86., 83.]])"
      ]
     },
     "execution_count": 66,
     "metadata": {},
     "output_type": "execute_result"
    }
   ],
   "source": [
    "file_name = 'files/scores.txt'\n",
    "array = np.loadtxt(file_name,delimiter=',',ndmin=2)\n",
    "array"
   ]
  },
  {
   "cell_type": "markdown",
   "metadata": {},
   "source": [
    "## Q5"
   ]
  }
 ],
 "metadata": {
  "kernelspec": {
   "display_name": "Python 3",
   "language": "python",
   "name": "python3"
  },
  "language_info": {
   "codemirror_mode": {
    "name": "ipython",
    "version": 3
   },
   "file_extension": ".py",
   "mimetype": "text/x-python",
   "name": "python",
   "nbconvert_exporter": "python",
   "pygments_lexer": "ipython3",
   "version": "3.11.5"
  }
 },
 "nbformat": 4,
 "nbformat_minor": 2
}
