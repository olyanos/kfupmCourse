{
 "cells": [
  {
   "cell_type": "markdown",
   "metadata": {},
   "source": [
    "## Q1"
   ]
  },
  {
   "cell_type": "code",
   "execution_count": null,
   "metadata": {},
   "outputs": [],
   "source": [
    "user_age = input('what year you were born')\n",
    "print('your age is', 2024 - int(user_age))"
   ]
  },
  {
   "cell_type": "markdown",
   "metadata": {},
   "source": [
    "## Q1"
   ]
  },
  {
   "cell_type": "code",
   "execution_count": null,
   "metadata": {},
   "outputs": [],
   "source": [
    "x = float(input('enter the first  number'))\n",
    "y = float(input('enter the second number'))\n",
    "print('sum',x+y)\n",
    "print('product',x*y)\n",
    "print('diff',x-y)\n",
    "print('qoutient',x/y)\n",
    "print('reminder',x%y)"
   ]
  },
  {
   "cell_type": "markdown",
   "metadata": {},
   "source": [
    "## Q3"
   ]
  },
  {
   "cell_type": "code",
   "execution_count": null,
   "metadata": {},
   "outputs": [],
   "source": [
    "user_input = input('Enter multi digit number')\n",
    "new_string =''\n",
    "for i in range(0,len(user_input)):\n",
    "    new_string = new_string + user_input[i]+ '\\t'\n",
    "print (new_string)"
   ]
  },
  {
   "cell_type": "markdown",
   "metadata": {},
   "source": [
    "## Q4"
   ]
  },
  {
   "cell_type": "code",
   "execution_count": null,
   "metadata": {},
   "outputs": [],
   "source": [
    "import math\n",
    "radius = float(input('enter the radius'))\n",
    "print('Area',(math.pi * radius**2))\n",
    "print('Circumfrunce',math.pi * 2 * radius)\n",
    "print('Diameter',radius*2)"
   ]
  },
  {
   "cell_type": "markdown",
   "metadata": {},
   "source": [
    "## Q5 "
   ]
  },
  {
   "cell_type": "code",
   "execution_count": null,
   "metadata": {},
   "outputs": [],
   "source": [
    "H = float(input('enter hight'))\n",
    "W = float(input('enter weight'))\n",
    "print('your BMI is', (W/(H**2)))\n",
    "print ('18.5 to 24.9, it falls within the Healthy Weight range.\\nIf your BMI is 25.0 to 29.9, it falls within the overweight range\\nIf your BMI is 30.0 or higher, it falls within the obese range.')"
   ]
  },
  {
   "cell_type": "markdown",
   "metadata": {},
   "source": [
    "## part 2 Q1"
   ]
  },
  {
   "cell_type": "code",
   "execution_count": null,
   "metadata": {},
   "outputs": [],
   "source": [
    "input = float(input('enter any number'))\n",
    "if input > 0:\n",
    "    print('number is positive')\n",
    "else:\n",
    "    print ('number is negative')"
   ]
  },
  {
   "cell_type": "markdown",
   "metadata": {},
   "source": [
    "## Q2"
   ]
  },
  {
   "cell_type": "code",
   "execution_count": null,
   "metadata": {},
   "outputs": [],
   "source": [
    "input2 = float(input('enter any number'))\n",
    "if (input2%2)>0:\n",
    "    print('odd')\n",
    "else:\n",
    "    print('even')"
   ]
  },
  {
   "cell_type": "markdown",
   "metadata": {},
   "source": [
    "## Q3"
   ]
  },
  {
   "cell_type": "code",
   "execution_count": null,
   "metadata": {},
   "outputs": [],
   "source": [
    "year= float(input('enter year'))\n",
    "if ((year%4) == 0 and (year%100) != 0) or year%400==0 :\n",
    "    print('leap year')\n",
    "else:\n",
    "    print('not leap year')"
   ]
  },
  {
   "cell_type": "markdown",
   "metadata": {},
   "source": [
    "## Q4"
   ]
  },
  {
   "cell_type": "code",
   "execution_count": null,
   "metadata": {},
   "outputs": [],
   "source": [
    "consumption= float(input('enter consumption'))\n",
    "if consumption < 50:\n",
    "    bill = consumption * 0.5\n",
    "elif consumption >50 and consumption <=100:\n",
    "    bill = 50 * 0.5 + consumption*0.75 -50\n",
    "elif consumption >100 and consumption<=200:\n",
    "    bill = 50 * 0.5 + 100*0.75 + 100 * 1.2 - 100\n",
    "else:\n",
    "    bill = 50 * 0.5 + 100*0.75 + 100 * 1.2 + consumption*1.5 -250\n",
    "\n",
    "bill = bill*1.2\n",
    "print('your bill is',bill)\n"
   ]
  },
  {
   "cell_type": "markdown",
   "metadata": {},
   "source": [
    "## Q5"
   ]
  },
  {
   "cell_type": "code",
   "execution_count": null,
   "metadata": {},
   "outputs": [],
   "source": [
    "# Read a sequence of numbers from the user, separated by spaces\n",
    "marks = input(\"Please enter a sequence of grades separated by spaces: \")\n",
    "\n",
    "# Split the input string into a list of strings\n",
    "number_strings = marks.split()\n",
    "\n",
    "# Convert each string in the list to an integer\n",
    "numbers = [int(num) for num in number_strings]\n",
    "\n",
    "sum = 0\n",
    "for i in range(0,len(numbers)):\n",
    "    sum = sum + int(numbers[i])\n",
    "average = sum / (len(numbers))\n",
    "print('your average is',average)\n",
    "if average > 90:\n",
    "    print('grade A')\n",
    "elif average > 80 and average<90:\n",
    "    print ('grade B')\n",
    "elif average > 70 and average<80:\n",
    "    print ('grade C')\n",
    "elif average > 60 and average<70:\n",
    "    print ('grade D')\n",
    "else:\n",
    "    print('grade F')"
   ]
  },
  {
   "cell_type": "markdown",
   "metadata": {},
   "source": [
    "## Q6"
   ]
  },
  {
   "cell_type": "code",
   "execution_count": null,
   "metadata": {},
   "outputs": [],
   "source": [
    "temp = input(\"Please enter the temperature followed by C or F: \")\n",
    "\n",
    "# Split the input string into a list of strings\n",
    "splitted_vals = temp.split()\n",
    "temp = float(splitted_vals[0])\n",
    "scale = splitted_vals[1]\n",
    "if (scale == 'F'):\n",
    "    print('Temp in C:', (temp-32)*5/9)\n",
    "else:\n",
    "    print('temp in F:', temp*9/5 +32)\n"
   ]
  },
  {
   "cell_type": "markdown",
   "metadata": {},
   "source": [
    "# Day 2"
   ]
  },
  {
   "cell_type": "markdown",
   "metadata": {},
   "source": [
    "## Q1"
   ]
  },
  {
   "cell_type": "code",
   "execution_count": null,
   "metadata": {},
   "outputs": [],
   "source": [
    "top = int(input('enter the number'))\n",
    "sum = 0\n",
    "for i in range(0,top):\n",
    "    if i % 2 ==0:\n",
    "        sum = sum + i\n",
    "print(sum)"
   ]
  },
  {
   "cell_type": "markdown",
   "metadata": {},
   "source": [
    "## Q2"
   ]
  },
  {
   "cell_type": "code",
   "execution_count": null,
   "metadata": {},
   "outputs": [],
   "source": [
    "integrs_list = input ('write your integers')\n",
    "sum = 0\n",
    "count =0\n",
    "new_string = ''\n",
    "for i in range(len(integrs_list)-1,-1,-1):\n",
    "    sum = sum + int(integrs_list[i])\n",
    "    count+=1\n",
    "    new_string = new_string + integrs_list[i]\n",
    "print(count)\n",
    "print(sum)\n",
    "print(new_string)\n"
   ]
  },
  {
   "cell_type": "markdown",
   "metadata": {},
   "source": [
    "## Q3"
   ]
  },
  {
   "cell_type": "code",
   "execution_count": null,
   "metadata": {},
   "outputs": [],
   "source": [
    "number = input('write your number')\n",
    "for i in range(0,int(number)):\n",
    "    print(float(i**2))"
   ]
  },
  {
   "cell_type": "markdown",
   "metadata": {},
   "source": [
    "## Q4"
   ]
  },
  {
   "cell_type": "code",
   "execution_count": null,
   "metadata": {},
   "outputs": [],
   "source": [
    "# this does not work\n",
    "def print_pascal(depth = 5, start = 1):\n",
    "    if (start == depth):\n",
    "        return start\n",
    "    while start < depth:\n",
    "        print(start,end=\" \")\n",
    "    start = print_pascal(depth, start+1)\n"
   ]
  },
  {
   "cell_type": "markdown",
   "metadata": {},
   "source": [
    "## part 2"
   ]
  },
  {
   "cell_type": "markdown",
   "metadata": {},
   "source": [
    "## Q1"
   ]
  },
  {
   "cell_type": "code",
   "execution_count": null,
   "metadata": {},
   "outputs": [],
   "source": [
    "string_1 = input('enter the first set')\n",
    "string_2 = input('enter the second set')\n",
    "for i in range(0,len(string_1)):\n",
    "    if string_1[i] in string_2:\n",
    "        print(string_1[i])"
   ]
  },
  {
   "cell_type": "markdown",
   "metadata": {},
   "source": [
    "## Q2"
   ]
  },
  {
   "cell_type": "code",
   "execution_count": null,
   "metadata": {},
   "outputs": [],
   "source": [
    "string = input('enter the sequence of numbers')\n",
    "splitted_string = string.split()\n",
    "print(max(map(int,splitted_string)))\n",
    "print(min(map(int,splitted_string)))"
   ]
  },
  {
   "cell_type": "markdown",
   "metadata": {},
   "source": [
    "## Q3"
   ]
  },
  {
   "cell_type": "code",
   "execution_count": null,
   "metadata": {},
   "outputs": [],
   "source": [
    "string = input('enter the sequence of numbers')\n",
    "string = string.split()\n",
    "new_list = []\n",
    "for i in range(0,len(string)):\n",
    "    if int(string[i]) %2 == 0 :\n",
    "        continue\n",
    "    else:\n",
    "        new_list.append(string[i])\n",
    "print(new_list)"
   ]
  },
  {
   "cell_type": "markdown",
   "metadata": {},
   "source": [
    "## Q4"
   ]
  },
  {
   "cell_type": "code",
   "execution_count": null,
   "metadata": {},
   "outputs": [],
   "source": [
    "import numpy as np\n",
    "grades_list = []\n",
    "while True:\n",
    "    grade = input('enter a student mark')\n",
    "    if (int(grade) == -1):\n",
    "        break\n",
    "    grades_list.append(float(grade))\n",
    "arr = np.array(grades_list)\n",
    "print(arr.mean())\n"
   ]
  },
  {
   "cell_type": "markdown",
   "metadata": {},
   "source": [
    "## Q5"
   ]
  },
  {
   "cell_type": "code",
   "execution_count": null,
   "metadata": {},
   "outputs": [],
   "source": [
    "dicto = {}\n",
    "while True:\n",
    "    id = input('enter student ID')\n",
    "    grade = input('enter a student mark')\n",
    "    if (int(grade) == -1):\n",
    "        break\n",
    "    dicto[id]=grade\n",
    "for key in sorted(dicto):\n",
    "    print (key, dicto[key])"
   ]
  },
  {
   "cell_type": "markdown",
   "metadata": {},
   "source": [
    "## Part 2"
   ]
  },
  {
   "cell_type": "markdown",
   "metadata": {},
   "source": [
    "## Q1"
   ]
  },
  {
   "cell_type": "code",
   "execution_count": null,
   "metadata": {},
   "outputs": [],
   "source": [
    "string_input = input('enter the string')\n",
    "dig_ctr = 0\n",
    "alpha_ctr =0\n",
    "sc_ctr = 0\n",
    "for i in range(0,len(string_input)):\n",
    "    if string_input[i].isdigit():\n",
    "        dig_ctr += 1\n",
    "    elif string_input[i].isalpha():\n",
    "        alpha_ctr += 1\n",
    "    else:\n",
    "        sc_ctr += 1\n",
    "print('digits =',dig_ctr)\n",
    "print('alphas=',alpha_ctr)\n",
    "print('sc =',sc_ctr)"
   ]
  },
  {
   "cell_type": "markdown",
   "metadata": {},
   "source": [
    "## Q2"
   ]
  },
  {
   "cell_type": "code",
   "execution_count": null,
   "metadata": {},
   "outputs": [],
   "source": [
    "string_input = input('enter the string')\n",
    "reverse = string_input[::-1]\n",
    "if reverse == string_input:\n",
    "    print('palidnrom')\n",
    "else:\n",
    "    print('not')"
   ]
  },
  {
   "cell_type": "markdown",
   "metadata": {},
   "source": [
    "## Q3"
   ]
  },
  {
   "cell_type": "code",
   "execution_count": null,
   "metadata": {},
   "outputs": [],
   "source": [
    "string_input = input('enter the string')\n",
    "print(max(string_input,key=string_input.count))"
   ]
  },
  {
   "cell_type": "markdown",
   "metadata": {},
   "source": [
    "## Q4"
   ]
  },
  {
   "cell_type": "code",
   "execution_count": null,
   "metadata": {},
   "outputs": [],
   "source": [
    "string_input = input('enter the string')\n",
    "splitted_string = string_input.split()\n",
    "print(min(splitted_string, key=len))\n",
    "print(max(splitted_string, key=len))"
   ]
  },
  {
   "cell_type": "markdown",
   "metadata": {},
   "source": [
    "## Day 3"
   ]
  },
  {
   "cell_type": "code",
   "execution_count": null,
   "metadata": {},
   "outputs": [],
   "source": [
    "# example 1\n",
    "mult_lambda = lambda a,b : a*b\n",
    "print(mult_lambda(3,4))"
   ]
  },
  {
   "cell_type": "code",
   "execution_count": null,
   "metadata": {},
   "outputs": [],
   "source": [
    "# example 2\n",
    "number_list = [1,2,3,4,5]\n",
    "lambda_squarer = lambda x : x**2\n",
    "squares = map(lambda_squarer,number_list)\n",
    "print('Squared = ', list(squares))"
   ]
  },
  {
   "cell_type": "code",
   "execution_count": null,
   "metadata": {},
   "outputs": [],
   "source": [
    "# example 3\n",
    "class simple:\n",
    "    num =10\n",
    "\n",
    "class_obj = simple()\n",
    "print(class_obj.num)"
   ]
  },
  {
   "cell_type": "markdown",
   "metadata": {},
   "source": [
    "# Day 3"
   ]
  },
  {
   "cell_type": "markdown",
   "metadata": {},
   "source": [
    "## Q1"
   ]
  },
  {
   "cell_type": "code",
   "execution_count": null,
   "metadata": {},
   "outputs": [],
   "source": [
    "def mult_sequence(numbers_list):\n",
    "    accum = 1\n",
    "    for i in range(0,len(numbers_list)):\n",
    "        accum = accum * float(numbers_list[i])\n",
    "    return accum\n",
    "input_list = input('write your numbers').split()\n",
    "print('Your mult result is= ',mult_sequence(input_list))"
   ]
  },
  {
   "cell_type": "markdown",
   "metadata": {},
   "source": [
    "## Q2"
   ]
  },
  {
   "cell_type": "code",
   "execution_count": null,
   "metadata": {},
   "outputs": [],
   "source": [
    "def is_perfect(number):\n",
    "    # first get divisors\n",
    "    div_list = []\n",
    "    for i in range(1,number):\n",
    "        if number % i == 0:\n",
    "            div_list.append(i)\n",
    "    # now check sum of divs\n",
    "    if sum(div_list) == number: \n",
    "        return True\n",
    "    else:\n",
    "        return False\n",
    "input_number = int(input('enter a number to see if it is perfect'))\n",
    "is_perfect(input_number)"
   ]
  },
  {
   "cell_type": "markdown",
   "metadata": {},
   "source": [
    "## Q3"
   ]
  },
  {
   "cell_type": "code",
   "execution_count": null,
   "metadata": {},
   "outputs": [],
   "source": [
    "def is_prime(number):\n",
    "    for i in range(2,number):\n",
    "        if number% i == 0:\n",
    "            return False\n",
    "    else:\n",
    "        return True\n",
    "input_number = int(input('enter a number to see if it is prime'))\n",
    "print(is_prime(input_number))"
   ]
  },
  {
   "cell_type": "markdown",
   "metadata": {},
   "source": [
    "## Q4"
   ]
  },
  {
   "cell_type": "code",
   "execution_count": null,
   "metadata": {},
   "outputs": [],
   "source": [
    "import math\n",
    "class Circle:\n",
    "    def __init__(self,radius):\n",
    "        self.area = math.pi*radius**2\n",
    "        self.diameter = radius * 2\n",
    "        self.perm = 2 * math.pi *radius\n",
    "rad = float(input('input raduis'))\n",
    "class_obj = Circle(rad)\n",
    "print(vars(class_obj))"
   ]
  },
  {
   "cell_type": "markdown",
   "metadata": {},
   "source": [
    "## part 2"
   ]
  },
  {
   "cell_type": "markdown",
   "metadata": {},
   "source": [
    "## Q1"
   ]
  },
  {
   "cell_type": "code",
   "execution_count": 7,
   "metadata": {},
   "outputs": [],
   "source": [
    "f = open('files/input.txt','r')\n",
    "input_text = f.read()\n",
    "f.close()\n",
    "# part 1\n",
    "f = open('output_files/output1.txt','w')\n",
    "f.write(input_text.swapcase())\n",
    "f.close()"
   ]
  },
  {
   "cell_type": "code",
   "execution_count": 6,
   "metadata": {},
   "outputs": [],
   "source": [
    "# part 2\n",
    "search_word = input('enter the search word')\n",
    "replace_word = input('enter the replacemnt word')\n",
    "input_text = input_text.replace(search_word,replace_word)\n",
    "f = open('output_files/output2.txt','w')\n",
    "f.write(input_text)\n",
    "f.close()"
   ]
  },
  {
   "cell_type": "code",
   "execution_count": 3,
   "metadata": {},
   "outputs": [],
   "source": [
    "# part 3\n",
    "lines = input_text.split('\\n')\n",
    "lines = [line for line in lines if line.strip()]\n",
    "f = open('output_files/output3.txt','w')\n",
    "f.write(str(lines))\n",
    "f.close()"
   ]
  },
  {
   "cell_type": "markdown",
   "metadata": {},
   "source": [
    "## Q2"
   ]
  },
  {
   "cell_type": "code",
   "execution_count": 10,
   "metadata": {},
   "outputs": [
    {
     "name": "stdout",
     "output_type": "stream",
     "text": [
      "[('the', 10), ('a', 8), ('Python', 6)]\n"
     ]
    }
   ],
   "source": [
    "f = open('files/Article.txt','r')\n",
    "input_text = f.read()\n",
    "f.close()\n",
    "from collections import Counter \n",
    "\n",
    "# this is from https://www.geeksforgeeks.org/\n",
    "# split() returns list of all the words in the string \n",
    "split_it = input_text.split() \n",
    "  \n",
    "# Pass the split_it list to instance of Counter class. \n",
    "Counter = Counter(split_it) \n",
    "  \n",
    "# most_common() produces k frequently encountered \n",
    "# input values and their respective counts. \n",
    "most_occur = Counter.most_common(3) \n",
    "print(most_occur)"
   ]
  },
  {
   "cell_type": "markdown",
   "metadata": {},
   "source": [
    "## Q3"
   ]
  },
  {
   "cell_type": "code",
   "execution_count": 12,
   "metadata": {},
   "outputs": [
    {
     "name": "stdout",
     "output_type": "stream",
     "text": [
      "True\n",
      "False\n",
      "False\n",
      "True\n"
     ]
    }
   ],
   "source": [
    "def is_identical(file1,file2):\n",
    "    return file1 == file2\n",
    "f = open('files/file1.txt','r')\n",
    "file1_text = f.read()\n",
    "f = open('files/file2.txt','r')\n",
    "file2_text = f.read()\n",
    "f = open('files/file3.txt','r')\n",
    "file3_text = f.read()\n",
    "print(is_identical(file1_text,file1_text))\n",
    "print(is_identical(file1_text,file2_text))\n",
    "print(is_identical(file2_text,file3_text))\n",
    "print(is_identical(file1_text,file3_text))\n"
   ]
  }
 ],
 "metadata": {
  "kernelspec": {
   "display_name": "Python 3",
   "language": "python",
   "name": "python3"
  },
  "language_info": {
   "codemirror_mode": {
    "name": "ipython",
    "version": 3
   },
   "file_extension": ".py",
   "mimetype": "text/x-python",
   "name": "python",
   "nbconvert_exporter": "python",
   "pygments_lexer": "ipython3",
   "version": "3.11.5"
  }
 },
 "nbformat": 4,
 "nbformat_minor": 2
}
