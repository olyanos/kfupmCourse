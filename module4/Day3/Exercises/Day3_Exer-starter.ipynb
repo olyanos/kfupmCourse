{
 "cells": [
  {
   "cell_type": "markdown",
   "metadata": {},
   "source": [
    "<a id='TableOfContents'></a>"
   ]
  },
  {
   "attachments": {},
   "cell_type": "markdown",
   "metadata": {},
   "source": [
    "# Notes:\n",
    "1. Run each cell that has  **Run this cell as is**\n",
    "2. Other code cells contain guides text and the expected output had left intentionally  to guide your development \n",
    "    * you need to work on lines contain this comment **# complete the code here**\n",
    "    * or multi-line code when this comment is present:  **# write your code here**\n",
    "3. In case your results are not matching the previous output (left for you) this could be due to randomization and you should not worry about them\n",
    "4. Most of the code is ready,  all you need to do is to fill in some parts of the codes to complete"
   ]
  },
  {
   "cell_type": "markdown",
   "metadata": {},
   "source": [
    "# Load Libraries"
   ]
  },
  {
   "cell_type": "code",
   "execution_count": 1,
   "metadata": {},
   "outputs": [],
   "source": [
    "# load required libraries\n",
    "# Run this cell as is\n",
    "\n",
    "# models\n",
    "from sklearn import svm \n",
    "from sklearn.linear_model import LogisticRegression\n",
    "from sklearn.neighbors import KNeighborsClassifier\n",
    "from sklearn.discriminant_analysis import LinearDiscriminantAnalysis\n",
    "from sklearn.pipeline import make_pipeline\n",
    "from sklearn.dummy import DummyClassifier\n",
    "\n",
    "# dataset\n",
    "from sklearn.datasets import make_blobs, make_circles, make_moons\n",
    "from sklearn.datasets import load_breast_cancer\n",
    "\n",
    "# evaluation metrics\n",
    "from sklearn.metrics  import accuracy_score, confusion_matrix,precision_score, recall_score, f1_score,\\\n",
    "                            ConfusionMatrixDisplay, classification_report\n",
    "\n",
    "\n",
    "# preprocessing module and model selection\n",
    "from sklearn.preprocessing import StandardScaler, MinMaxScaler     \n",
    "from sklearn.preprocessing import PolynomialFeatures, PowerTransformer\n",
    "from sklearn.model_selection import train_test_split,  KFold, GroupKFold, GridSearchCV\n",
    "\n",
    "# Matrices and Data structures\n",
    "import pandas as pd\n",
    "import numpy as np\n",
    "\n",
    "# Visualization \n",
    "import matplotlib.pyplot as plt\n",
    "import seaborn as sns\n",
    "from mpl_toolkits import mplot3d\n",
    "\n",
    "\n",
    "from sklearn import metrics\n",
    "\n",
    "# other\n",
    "from sklearn.base import TransformerMixin\n",
    "import time\n",
    "import pickle\n",
    "import random"
   ]
  },
  {
   "cell_type": "markdown",
   "metadata": {},
   "source": [
    "***************************************************"
   ]
  },
  {
   "cell_type": "markdown",
   "metadata": {},
   "source": [
    "# Datasets part"
   ]
  },
  {
   "cell_type": "markdown",
   "metadata": {},
   "source": [
    "## Fruits Dataset \n",
    "\n",
    "https://www.kaggle.com/datasets/mjamilmoughal/fruits-with-colors-dataset"
   ]
  },
  {
   "cell_type": "code",
   "execution_count": 2,
   "metadata": {},
   "outputs": [
    {
     "data": {
      "text/html": [
       "<div>\n",
       "<style scoped>\n",
       "    .dataframe tbody tr th:only-of-type {\n",
       "        vertical-align: middle;\n",
       "    }\n",
       "\n",
       "    .dataframe tbody tr th {\n",
       "        vertical-align: top;\n",
       "    }\n",
       "\n",
       "    .dataframe thead th {\n",
       "        text-align: right;\n",
       "    }\n",
       "</style>\n",
       "<table border=\"1\" class=\"dataframe\">\n",
       "  <thead>\n",
       "    <tr style=\"text-align: right;\">\n",
       "      <th></th>\n",
       "      <th>fruit_label</th>\n",
       "      <th>mass</th>\n",
       "      <th>width</th>\n",
       "      <th>height</th>\n",
       "      <th>color_score</th>\n",
       "    </tr>\n",
       "  </thead>\n",
       "  <tbody>\n",
       "    <tr>\n",
       "      <th>count</th>\n",
       "      <td>59.000000</td>\n",
       "      <td>59.000000</td>\n",
       "      <td>59.000000</td>\n",
       "      <td>59.000000</td>\n",
       "      <td>59.000000</td>\n",
       "    </tr>\n",
       "    <tr>\n",
       "      <th>mean</th>\n",
       "      <td>2.542373</td>\n",
       "      <td>163.118644</td>\n",
       "      <td>7.105085</td>\n",
       "      <td>7.693220</td>\n",
       "      <td>0.762881</td>\n",
       "    </tr>\n",
       "    <tr>\n",
       "      <th>std</th>\n",
       "      <td>1.208048</td>\n",
       "      <td>55.018832</td>\n",
       "      <td>0.816938</td>\n",
       "      <td>1.361017</td>\n",
       "      <td>0.076857</td>\n",
       "    </tr>\n",
       "    <tr>\n",
       "      <th>min</th>\n",
       "      <td>1.000000</td>\n",
       "      <td>76.000000</td>\n",
       "      <td>5.800000</td>\n",
       "      <td>4.000000</td>\n",
       "      <td>0.550000</td>\n",
       "    </tr>\n",
       "    <tr>\n",
       "      <th>25%</th>\n",
       "      <td>1.000000</td>\n",
       "      <td>140.000000</td>\n",
       "      <td>6.600000</td>\n",
       "      <td>7.200000</td>\n",
       "      <td>0.720000</td>\n",
       "    </tr>\n",
       "    <tr>\n",
       "      <th>50%</th>\n",
       "      <td>3.000000</td>\n",
       "      <td>158.000000</td>\n",
       "      <td>7.200000</td>\n",
       "      <td>7.600000</td>\n",
       "      <td>0.750000</td>\n",
       "    </tr>\n",
       "    <tr>\n",
       "      <th>75%</th>\n",
       "      <td>4.000000</td>\n",
       "      <td>177.000000</td>\n",
       "      <td>7.500000</td>\n",
       "      <td>8.200000</td>\n",
       "      <td>0.810000</td>\n",
       "    </tr>\n",
       "    <tr>\n",
       "      <th>max</th>\n",
       "      <td>4.000000</td>\n",
       "      <td>362.000000</td>\n",
       "      <td>9.600000</td>\n",
       "      <td>10.500000</td>\n",
       "      <td>0.930000</td>\n",
       "    </tr>\n",
       "  </tbody>\n",
       "</table>\n",
       "</div>"
      ],
      "text/plain": [
       "       fruit_label        mass      width     height  color_score\n",
       "count    59.000000   59.000000  59.000000  59.000000    59.000000\n",
       "mean      2.542373  163.118644   7.105085   7.693220     0.762881\n",
       "std       1.208048   55.018832   0.816938   1.361017     0.076857\n",
       "min       1.000000   76.000000   5.800000   4.000000     0.550000\n",
       "25%       1.000000  140.000000   6.600000   7.200000     0.720000\n",
       "50%       3.000000  158.000000   7.200000   7.600000     0.750000\n",
       "75%       4.000000  177.000000   7.500000   8.200000     0.810000\n",
       "max       4.000000  362.000000   9.600000  10.500000     0.930000"
      ]
     },
     "execution_count": 2,
     "metadata": {},
     "output_type": "execute_result"
    }
   ],
   "source": [
    "# Run this cell as is\n",
    "# load the dataset\n",
    "dataraw = pd.read_csv('Data/fruit_data_with_colors.csv')\n",
    "\n",
    "# check the data basic stats\n",
    "dataraw.describe()"
   ]
  },
  {
   "cell_type": "code",
   "execution_count": 3,
   "metadata": {},
   "outputs": [],
   "source": [
    "# the data has other information as fruit name or subtype\n",
    "# let us drop them and keep them in another var - data\n",
    "\n",
    "# Run this cell as is\n",
    "data = dataraw.drop(['fruit_name', 'fruit_subtype'], axis=1)"
   ]
  },
  {
   "cell_type": "code",
   "execution_count": 4,
   "metadata": {},
   "outputs": [],
   "source": [
    "# let us split the data into train and test\n",
    "\n",
    "# Run this cell as is\n",
    "# keep 20% for testing\n",
    "fruit_X_train, fruit_X_test, fruit_y_train, fruit_y_test = train_test_split(data.iloc[:,1:],data.iloc[:,0],\n",
    "                                                    test_size=0.2, stratify = data.iloc[:,0], random_state=2)\n"
   ]
  },
  {
   "cell_type": "markdown",
   "metadata": {},
   "source": [
    "**Remember:** Testing data must not be used in model development! We need to use it later in the evaluation stage only"
   ]
  },
  {
   "cell_type": "markdown",
   "metadata": {},
   "source": [
    "## Generated datasets\n"
   ]
  },
  {
   "cell_type": "code",
   "execution_count": 5,
   "metadata": {},
   "outputs": [],
   "source": [
    "# Run this cell as is\n",
    "\n",
    "# Blobs: make some training data\n",
    "Xbtr, ybtr = make_blobs(n_samples=50, n_features=2, centers=[[1,1], [3,3]], cluster_std=0.5, random_state=20)\n",
    "# make some validation data\n",
    "Xbts, ybts = make_blobs(n_samples=20, n_features=2,centers=[[1,1], [3,3]], cluster_std=0.5, random_state=2 )\n",
    "# Moons: make some training data\n",
    "Xntr, yntr = make_moons(n_samples=50,random_state=20,noise =0.2)\n",
    "# make some validation data\n",
    "Xnts, ynts = make_moons(n_samples=20, random_state=2,noise =0.2)\n",
    "#Circles: make some training data\n",
    "Xctr, yctr = make_circles(n_samples=50,random_state=20,factor=0.6,noise = 0.1)\n",
    "# make some validation data\n",
    "Xcts, ycts = make_circles(n_samples=20,random_state=2,factor=0.6,noise = 0.1)"
   ]
  },
  {
   "cell_type": "code",
   "execution_count": 6,
   "metadata": {
    "scrolled": true
   },
   "outputs": [
    {
     "data": {
      "image/png": "[encoded data removed]",
      "text/plain": [
       "<Figure size 864x288 with 3 Axes>"
      ]
     },
     "metadata": {
      "needs_background": "light"
     },
     "output_type": "display_data"
    }
   ],
   "source": [
    "# Run this cell as is\n",
    "# Check out and visualize the datasets\n",
    "plt.figure(figsize=(12,4))\n",
    "plt.subplot(1,3,1)\n",
    "plt.scatter(Xbtr[:,0],Xbtr[:,1], c= ybtr)\n",
    "plt.subplot(1,3,2)\n",
    "plt.scatter(Xntr[:,0],Xntr[:,1], c= yntr)\n",
    "plt.subplot(1,3,3)\n",
    "plt.scatter(Xctr[:,0],Xntr[:,1] , c= yctr)\n",
    "plt.tight_layout()\n",
    "plt.show()"
   ]
  },
  {
   "cell_type": "markdown",
   "metadata": {},
   "source": [
    "# Function Definitions"
   ]
  },
  {
   "cell_type": "code",
   "execution_count": 7,
   "metadata": {},
   "outputs": [],
   "source": [
    "# Run this cell as is\n",
    "# custom transformation\n",
    "class GaussianTransformation(TransformerMixin):\n",
    "    transformed_data = None\n",
    "    def __init__(self):\n",
    "        self.transformed_data = [] \n",
    "    \n",
    "    def fit(self, X, y=None):\n",
    "        return self\n",
    "    \n",
    "    # let us define our Guassian transformation becuase it fits circle datasets\n",
    "    def transform(self, X, y=None):\n",
    "        X_ = X.copy()\n",
    "        r =  np.exp(-(X_ **2).sum(1))\n",
    "        X_ = np.hstack((X_, r.reshape(-1,1)))\n",
    "        self.transformed_data = X_\n",
    "        return X_\n"
   ]
  },
  {
   "cell_type": "code",
   "execution_count": 8,
   "metadata": {},
   "outputs": [],
   "source": [
    "# Run this cell as is\n",
    "# plot 3d data (transformed data)\n",
    "def plot_3D(X, y,kerX, elev=30, azim=30):\n",
    "    plt.figure(figsize=[8,5])  \n",
    "    ax = plt.subplot(projection='3d')\n",
    "    ax.scatter3D(X[:, 0], X[:, 1], kerX, c = y, s=50, cmap = 'flare')\n",
    "    ax.view_init(elev=elev, azim=azim)\n",
    "    ax.set_xlabel('x1', fontsize=15)\n",
    "    ax.set_ylabel('X2', fontsize=15)\n",
    "    ax.set_zlabel('Z', fontsize=15)\n",
    "    \n",
    "    # Show data with various classes\n",
    "def ScatterPlot(X, y):\n",
    "    lbls = set(y)\n",
    "    marker = ['o', '^', 'p', 'P', 'H', 'h', 'D', 'd']\n",
    "    for i in lbls:\n",
    "        plt.scatter(X[y==i,0], X[y==i,1], s=100, marker=marker[i], label = ('Objects:'+ str(i)) )\n",
    "    plt.legend(loc=4) # lower right"
   ]
  },
  {
   "cell_type": "markdown",
   "metadata": {},
   "source": [
    "### Plot Decisison Space Function"
   ]
  },
  {
   "cell_type": "code",
   "execution_count": 9,
   "metadata": {},
   "outputs": [],
   "source": [
    "# Run this cell as is\n",
    "# not working with all models, only models that compute probabilities can be used!\n",
    "def plot_decisison (X,y, model , TestType='Training'):\n",
    "    plt.figure(figsize=(9.8,5), dpi=100)\n",
    "    \n",
    "    for i, plot_type in enumerate(['Decision Boundary', 'Decision Probabilities']):\n",
    "        plt.subplot(1,2,i+1)\n",
    "        mesh_step_size = 0.01  # step size in the mesh\n",
    "        x_min, x_max = X[:, 0].min() - .1, X[:, 0].max() + .1\n",
    "        y_min, y_max = X[:, 1].min() - .1, X[:, 1].max() + .1\n",
    "        xx, yy = np.meshgrid(np.arange(x_min, x_max, mesh_step_size), np.arange(y_min, y_max, mesh_step_size))\n",
    "        if i == 0:\n",
    "            Z = model.predict(np.c_[xx.ravel(), yy.ravel()])\n",
    "        else:\n",
    "            try:\n",
    "                Z = model.predict_proba(np.c_[xx.ravel(), yy.ravel()])[:,1]\n",
    "            except:\n",
    "                plt.text(0.4, 0.5, 'Probabilities Unavailable', horizontalalignment='center',\n",
    "                     verticalalignment='center', transform = plt.gca().transAxes, fontsize=12)\n",
    "                plt.axis('off')\n",
    "                break\n",
    "        Z = Z.reshape(xx.shape)\n",
    "        lbls = set(y)\n",
    "        for i in lbls:\n",
    "            plt.scatter(X[y==i,0], X[y==i,1], alpha=0.4, s=5, cmap='magma')#RdYlBu_r\n",
    "        #plt.scatter(X[y==0,0], X[y==0,1], alpha=0.4,  s=5)\n",
    "        #print(Z)\n",
    "        plt.imshow(Z, interpolation='nearest', cmap='magma', alpha=0.15, extent=(x_min, x_max, y_min, y_max), origin='lower')\n",
    "        plt.title(plot_type)\n",
    "        plt.gca().set_aspect('equal');\n",
    "        \n",
    "    plt.tight_layout()\n",
    "    plt.subplots_adjust(top=0.9, bottom=0.08, wspace=0.02)"
   ]
  },
  {
   "cell_type": "markdown",
   "metadata": {},
   "source": [
    "### Plot SVM Decision Line Function"
   ]
  },
  {
   "cell_type": "code",
   "execution_count": 10,
   "metadata": {},
   "outputs": [],
   "source": [
    "# Run this cell as is\n",
    "\n",
    "#https://scikit-learn.org/stable/auto_examples/svm/plot_separating_hyperplane.html\n",
    "#https://scikit-learn.org/0.15/auto_examples/svm/plot_separating_hyperplane.html\n",
    "def plot_decisionline(model, X, y, SVM_Model=True):\n",
    "    # ploting the decision line\n",
    "    plt.scatter (X[y==0,0],X[y==0,1], marker='^',facecolors='none', color='r',s=100)\n",
    "    plt.scatter (X[y==1,0],X[y==1,1], marker='o', color='k',facecolors='none', s=100)\n",
    "\n",
    "    # plot the decision function\n",
    "    ax = plt.gca()\n",
    "    xlim = ax.get_xlim()\n",
    "    ylim = ax.get_ylim()\n",
    "    \n",
    "    # create grid to evaluate model\n",
    "    xx = np.linspace(xlim[0], xlim[1], len(X[:,0]))\n",
    "    yy = np.linspace(ylim[0], ylim[1], len(X[:,0]))\n",
    "    YY, XX = np.meshgrid(yy, xx)\n",
    "    \n",
    "    # Stack the grid points together to control the whole space\n",
    "    xy = np.vstack([XX.ravel(), YY.ravel()]).T\n",
    "    \n",
    "    # use the trained model to classifier the grid points and reshape them using XX matrix\n",
    "    Z = model.decision_function(xy).reshape(XX.shape)\n",
    "    \n",
    "\n",
    "    if SVM_Model == True:\n",
    "        # plot decision line and margins\n",
    "        cs1 = ax.contour(XX, YY, Z, colors=None, levels=[-1, 0, 1 ], alpha=0.5, linestyles=['-', '--', '-'], cmap='magma')\n",
    "        # plot support vectors\n",
    "        ax.scatter(model.support_vectors_[:, 0], model.support_vectors_[:, 1], \n",
    "                   color = 'm', s=200, linewidth=1, facecolors='none')\n",
    "        plt.title('SVM: decision line and max margin $\\gamma$')\n",
    "    else:\n",
    "        # plot decision line and margins\n",
    "        cs1 = ax.contour(XX, YY, Z, colors=None, levels=[ 0 ], alpha=0.5, linestyles=['--'], cmap='magma')\n",
    "        plt.title('Decision Line on Training Data')\n",
    "        \n",
    "    plt.xlabel('feature 1')\n",
    "    plt.ylabel('feature 2')\n",
    "    plt.axis('tight')\n",
    "#     plt.show()"
   ]
  },
  {
   "cell_type": "markdown",
   "metadata": {},
   "source": [
    "************************************************"
   ]
  },
  {
   "cell_type": "markdown",
   "metadata": {},
   "source": [
    "# K-Nearest Neighbor Classifier"
   ]
  },
  {
   "attachments": {},
   "cell_type": "markdown",
   "metadata": {},
   "source": [
    "## Exercise 1 \n",
    "\n",
    "In this exercise, we want to study the behavior of the **KNN** method on synthesized datasets. Perform the following steps\n",
    "\n",
    "**Tasks**\n",
    "\n",
    "1.\tImport the *KNN* classifiers from SciKit learn library.\n",
    "2.  Complete and use the function **kNNModels** that creates several KNN models each with different K (3,5, 7 ..)\n",
    "3.\tTrain the generated models using the **blobs training data** that were generated for you above\n",
    "3.\tEvalulate the models by computing the models' **accuracy** using the model.score() function, which model was the best?\n",
    "4.\tPass to models to a ploting function to inspect the decision boundary \n",
    "5. we can change the dataset, and repeat steps 3 to 5 using moons and circles datasets to understand the effectivness of the kNN on different datasets\n"
   ]
  },
  {
   "cell_type": "markdown",
   "metadata": {},
   "source": [
    "[Go Top](#TableOfContents)"
   ]
  },
  {
   "cell_type": "code",
   "execution_count": 11,
   "metadata": {},
   "outputs": [],
   "source": [
    "# Import the KNN classifiers from SciKit learn library.\n",
    "from sklearn.  # complete the code here"
   ]
  },
  {
   "cell_type": "code",
   "execution_count": null,
   "metadata": {},
   "outputs": [],
   "source": [
    "# usage\n",
    "# 1- instantiate the model\n",
    "# 2- fit the model with labeled data\n",
    "# 3- test the model with other data"
   ]
  },
  {
   "cell_type": "code",
   "execution_count": null,
   "metadata": {},
   "outputs": [],
   "source": []
  },
  {
   "cell_type": "code",
   "execution_count": null,
   "metadata": {
    "scrolled": true
   },
   "outputs": [],
   "source": [
    "# This function returns a list of KNN models with different K each\n",
    "def kNNModels (numberOfModels, data, labels):\n",
    "    models = []\n",
    "    \n",
    "    # make a list that starts with 3, then it adds odd numbers for numberOfModels \n",
    "    # so if numberOfModels = 3, your list will have [3, 5, 7], \n",
    "    # and if numberOfModels = 4, your list will have [3, 5, 7, 9], and so on\n",
    "\n",
    "    mds = list (range(3, 2 * numberOfModels + 2, 2))\n",
    "\n",
    "   \n",
    "    for md in mds:\n",
    "        \n",
    "        # create new knn each time with k = md\n",
    "        knn = KNeighborsClassifier(n_neighbors = md, # This is K \n",
    "                                  weights = 'uniform', #Distance,\n",
    "                                  algorithm = 'auto', #Brute, ball_tree ...\n",
    "                                  p = 2, #for distance, \n",
    "                                  metric = 'minkowski', #\n",
    "                                  )\n",
    "        \n",
    "        # train the model \n",
    "        knn.fit(    ,    ) # complete the code here\n",
    "\n",
    "        print(md)\n",
    "        \n",
    "        # append the new created model\n",
    "        models.append(knn)\n",
    "        \n",
    "    # once loop finished, it means will successfully created the models    \n",
    "    print('%d kNN models have been created and trained..'% numberOfModels)\n",
    "    \n",
    "    # return back the creaed models in the list models\n",
    "    return models\n",
    "\n"
   ]
  },
  {
   "cell_type": "code",
   "execution_count": 12,
   "metadata": {},
   "outputs": [
    {
     "name": "stdout",
     "output_type": "stream",
     "text": [
      "3\n",
      "5\n",
      "7\n",
      "3 kNN models have been created and trained..\n"
     ]
    }
   ],
   "source": [
    "# Let us use the blob data and call the method KNNModels function that you complteted it above to generate 3 models\n",
    "knns = kNNModels (numberOfModels = 3,    ,     ) # complete the code here\n"
   ]
  },
  {
   "cell_type": "code",
   "execution_count": 13,
   "metadata": {},
   "outputs": [
    {
     "name": "stdout",
     "output_type": "stream",
     "text": [
      "The best model is (1)\n",
      "The performance of Model 1 is 1.00:\n"
     ]
    }
   ],
   "source": [
    "# Using a loop (FOR) Classify the test dataset using these models, \n",
    "# compute the performance accuracy score and keep track of the best model you got.\n",
    "accuracies = []\n",
    "\n",
    "# Evaluate each model in knns \n",
    "for mdl in   :        # complete the code here\n",
    "    # predict\n",
    "    ypred = mdl.    # complete the code here\n",
    "    \n",
    "    # compute accuracy score\n",
    "    acc=            # complete the code here\n",
    "    \n",
    "    # append modeli accuracy to compare them later\n",
    "    accuracies.append(acc)\n",
    "    \n",
    "# get index of best knns    \n",
    "bestmodel = accuracies.index(max(accuracies))+1\n",
    "\n",
    "# start index is 1 \n",
    "print ('The best model is (%d)'% (bestmodel))\n",
    "\n",
    "# performance of the best model is \n",
    "print('The performance of Model %d is %.2f:'% (bestmodel, max(accuracies)))"
   ]
  },
  {
   "cell_type": "code",
   "execution_count": 14,
   "metadata": {},
   "outputs": [
    {
     "data": {
      "image/png": "[encoded data removed]",
      "text/plain": [
       "<Figure size 980x500 with 2 Axes>"
      ]
     },
     "metadata": {
      "needs_background": "light"
     },
     "output_type": "display_data"
    }
   ],
   "source": [
    "# let's plot how the decision space look like \n",
    "# to plot the decision space, we need to call plot_decision method with the following input\n",
    "# input: 1- data features (accepts 2 features matrix only)\n",
    "#        2- data labels ( 1d array )\n",
    "#        3- a model ( such as knn in this case)\n",
    "\n",
    "# call plot_decision\n",
    "plot_decisison (   ,   ,    ) # complete the code here"
   ]
  },
  {
   "cell_type": "code",
   "execution_count": 15,
   "metadata": {},
   "outputs": [
    {
     "name": "stdout",
     "output_type": "stream",
     "text": [
      "3\n",
      "5\n",
      "7\n",
      "3 kNN models have been created and trained..\n",
      "The best model is (1)\n",
      "The performance of Model 1 is 0.95:\n"
     ]
    },
    {
     "data": {
      "image/png": "[encoded data removed]",
      "text/plain": [
       "<Figure size 980x500 with 2 Axes>"
      ]
     },
     "metadata": {
      "needs_background": "light"
     },
     "output_type": "display_data"
    }
   ],
   "source": [
    "# let us repeat the above work using circul dataset Xctr, yctr.\n",
    "\n",
    "# Let us use the circule data and call the method KNNModels to generate 3 models\n",
    "knns = # complete the code here\n",
    "\n",
    "# Evaluate using validation\n",
    "accuracies = []\n",
    "\n",
    "# loop here for each model \n",
    "for  # complete the code here\n",
    "\n",
    "\n",
    "\n",
    "\n",
    "\n",
    "# get index of best knns    \n",
    "bestmodel = accuracies.index(max(accuracies))+1\n",
    "\n",
    "# start index is 1 \n",
    "print ('The best model is (%d)'% (bestmodel))\n",
    "\n",
    "# performance of the best model is \n",
    "print('The performance of Model %d is %.2f:'% (bestmodel, max(accuracies)))\n",
    "\n",
    "# let's plot how the decision space look like \n",
    "plot_decisison (  ,  ,   ) # complete the code here\n"
   ]
  },
  {
   "cell_type": "markdown",
   "metadata": {},
   "source": [
    "*********************"
   ]
  },
  {
   "cell_type": "code",
   "execution_count": 16,
   "metadata": {},
   "outputs": [
    {
     "name": "stdout",
     "output_type": "stream",
     "text": [
      "3\n",
      "5\n",
      "7\n",
      "3 kNN models have been created and trained..\n",
      "The best model is (1)\n",
      "The performance of Model 1 is 1.00:\n"
     ]
    },
    {
     "data": {
      "image/png": "[encoded data removed]",
      "text/plain": [
       "<Figure size 980x500 with 2 Axes>"
      ]
     },
     "metadata": {
      "needs_background": "light"
     },
     "output_type": "display_data"
    }
   ],
   "source": [
    "# Study the behavior of the classifier on moons dataset.\n",
    "\n",
    "# Let us use the moons data and call the method KNNModels to generate 3 models\n",
    "knns =  # complete the code here\n",
    "\n",
    "# Evaluate using validation\n",
    "accuracies = []\n",
    "for  # complete the code here\n",
    "\n",
    "\n",
    "\n",
    "    \n",
    "    \n",
    "    \n",
    "    \n",
    "# get index of best knns    \n",
    "bestmodel = accuracies.index(max(accuracies))+1\n",
    "\n",
    "# start index is 1 \n",
    "print ('The best model is (%d)'% (bestmodel))\n",
    "\n",
    "# performance of the best model is \n",
    "print('The performance of Model %d is %.2f:'% (bestmodel, max(accuracies)))\n",
    "\n",
    "# let's plot how the decision space look like \n",
    "plot_decisison (  ,  ,   ) # complete the code here\n"
   ]
  },
  {
   "cell_type": "markdown",
   "metadata": {},
   "source": [
    "We can observe that as K is small, the model is able to produce complex decision boundaries!"
   ]
  },
  {
   "cell_type": "markdown",
   "metadata": {},
   "source": [
    "[Return to Table of Contents](#TableOfContents)"
   ]
  },
  {
   "cell_type": "markdown",
   "metadata": {},
   "source": [
    "<a id=PQuestion3></a>"
   ]
  },
  {
   "cell_type": "markdown",
   "metadata": {},
   "source": [
    "## Exercise 2 [Multi classes classification]\n",
    "\n",
    "kNN classifiers can deal with multi-class problems. Use fruits dataset loaded in previous cells above. We want to classify the fruit dataset using kNN classifier. \n",
    "\n",
    "We can follow the above scenario by dividing the **training data** into train and validation sets to build the models. Then, we report performance using **testing dataset **\n"
   ]
  },
  {
   "cell_type": "markdown",
   "metadata": {},
   "source": [
    "[Go Top](#TableOfContents)"
   ]
  },
  {
   "cell_type": "code",
   "execution_count": 17,
   "metadata": {},
   "outputs": [],
   "source": [
    "# F\n",
    "# Divide the data into training and validation sets using train_test_split\n",
    "Xtr, Xtv, ytr, Vtv =  train_test_split(fruit_X_train,\n",
    "                                       fruit_y_train,\n",
    "                                       test_size=0.2, \n",
    "                                       random_state=20)\n"
   ]
  },
  {
   "cell_type": "code",
   "execution_count": 18,
   "metadata": {},
   "outputs": [
    {
     "name": "stdout",
     "output_type": "stream",
     "text": [
      "3\n",
      "5\n",
      "7\n",
      "9\n",
      "11\n",
      "13\n",
      "5 kNN models have been created and trained..\n"
     ]
    }
   ],
   "source": [
    "# create the 5 models using our previous function KNNModels\n",
    "# note: training part of the data has to be used\n",
    "knns =  # complete the code here"
   ]
  },
  {
   "cell_type": "code",
   "execution_count": 19,
   "metadata": {},
   "outputs": [
    {
     "name": "stdout",
     "output_type": "stream",
     "text": [
      "The best model is (1)\n",
      "The performance of Model 1 is 0.60:\n",
      "Model parameters: {'algorithm': 'auto', 'leaf_size': 30, 'metric': 'minkowski', 'metric_params': None, 'n_jobs': None, 'n_neighbors': 5, 'p': 2, 'weights': 'uniform'}\n"
     ]
    }
   ],
   "source": [
    "# Evaluate using validation\n",
    "accuracies = []\n",
    "for  # complete the code here\n",
    "\n",
    "\n",
    "\n",
    "\n",
    "    \n",
    "# show results \n",
    "# get index of best knns    \n",
    "bestmodel = accuracies.index(max(accuracies))+1\n",
    "\n",
    "# start index is 1 \n",
    "print ('The best model is (%d)'% (bestmodel))\n",
    "\n",
    "# performance of the best model is \n",
    "print('The performance of Model %d is %.2f:'% (bestmodel, max(accuracies)))\n",
    "\n",
    "# what is the parameters of the best model\n",
    "print('Model parameters:',knns[bestmodel].get_params() )"
   ]
  },
  {
   "cell_type": "markdown",
   "metadata": {},
   "source": [
    " **Note**\n",
    " \n",
    " From the above information, we can select the model parameters and buil another model on the full training data, then make our final evaluation"
   ]
  },
  {
   "cell_type": "code",
   "execution_count": 20,
   "metadata": {},
   "outputs": [
    {
     "name": "stdout",
     "output_type": "stream",
     "text": [
      "Results: 0.5\n"
     ]
    }
   ],
   "source": [
    "# The above scenario allows us to select a  model, let set the best model's paramters and build a model using the full training\n",
    "# data\n",
    "\n",
    "# Configure the model with best paramters you found\n",
    "knn = KNeighborsClassifier(   ) # complete the code here\n",
    "\n",
    "# train the model \n",
    "knn. # complete the code here\n",
    "\n",
    "# let us evaluate and report the results (accuracy) we can use knn.score\n",
    "print('Results:',     ) # complete the code here"
   ]
  },
  {
   "cell_type": "markdown",
   "metadata": {},
   "source": [
    "**Observation**\n",
    "\n",
    "what is your observations? double click this text and **edit your answer**"
   ]
  },
  {
   "cell_type": "markdown",
   "metadata": {},
   "source": [
    "[Return to Table of Contents](#TableOfContents)"
   ]
  },
  {
   "cell_type": "markdown",
   "metadata": {},
   "source": [
    "<a id=PQuestion5></a>"
   ]
  },
  {
   "cell_type": "markdown",
   "metadata": {},
   "source": [
    "# Exercise 3: Base performance"
   ]
  },
  {
   "cell_type": "markdown",
   "metadata": {},
   "source": [
    "## Null accuracy\n",
    "\n",
    "In this exercise, we will build a dummy ML model with most frequent strategy to compute the null accuracy as a base for better modeling and results. To do that, let us consider the furit dataset and build the model to findout what is our base accuracy for this dataset\n",
    "\n",
    "**Doc:** https://scikit-learn.org/stable/modules/generated/sklearn.dummy.DummyClassifier.html"
   ]
  },
  {
   "cell_type": "code",
   "execution_count": 21,
   "metadata": {},
   "outputs": [],
   "source": [
    "# load the dummy classifier\n",
    "from sklearn.dummy import DummyClassifier"
   ]
  },
  {
   "cell_type": "markdown",
   "metadata": {},
   "source": [
    "## Fruit dataset"
   ]
  },
  {
   "cell_type": "code",
   "execution_count": 22,
   "metadata": {},
   "outputs": [
    {
     "data": {
      "image/png": "[encoded data removed]",
      "text/plain": [
       "<Figure size 1080x504 with 1 Axes>"
      ]
     },
     "metadata": {
      "needs_background": "light"
     },
     "output_type": "display_data"
    }
   ],
   "source": [
    "# let us use the fruit dataset (train)\n",
    "# X_train and y_train are both extracted from fruit dataset previously\n",
    "\n",
    "# let us check how balanced are the data\n",
    "plt.figure(figsize=(15, 7))\n",
    "axs= sns.countplot(x='classes',  data=pd.DataFrame({'classes': fruit_y_train}), palette='hls')\n",
    "axs.set_xlabel('Classes',size=16)\n",
    "axs.set_ylabel('Count',size=16)\n",
    "axs.set_title('Per Class Count', size = 20)\n",
    "plt.show()"
   ]
  },
  {
   "cell_type": "markdown",
   "metadata": {},
   "source": [
    "**Observation**\n",
    "\n",
    "what is your observations? double click this text and **edit your answer**"
   ]
  },
  {
   "cell_type": "code",
   "execution_count": 23,
   "metadata": {},
   "outputs": [
    {
     "name": "stdout",
     "output_type": "stream",
     "text": [
      "Baseline score:(31.91%)\n"
     ]
    }
   ],
   "source": [
    "\n",
    "# let us initiate the model and set the strategy parameter to most_frequent\n",
    "dummy_clf = DummyClassifier(strategy = \"most_frequent\")\n",
    "\n",
    "# fit dummy_clf \n",
    "dummy_clf.  # complete the code here\n",
    "\n",
    "# compuete the score the dummy classifier\n",
    "scr = dummy_clf.  # complete the code here\n",
    "\n",
    "# plot the null accuracy\n",
    "print('Baseline score:(%0.2f%%)'%(scr*100) )"
   ]
  },
  {
   "cell_type": "markdown",
   "metadata": {},
   "source": [
    "## Facies dataset\n",
    "\n",
    "Facies classification dataset. It consists of seven features five wire line log curves include gamma ray (GR), resistivity logging (ILD_log10), photoelectric effect (PE), neutron-density porosity difference and average neutron-density porosity (DeltaPHI and PHIND). Note, some wells do not have PE. Also, it has two geologic constraining variables: nonmarine-marine indicator (NM_M) and relative position (RELPOS). Moreover, it contains facies labels at half foot depth intervals. There are 9 facies labels as described below:  \n",
    "1.\tNonmarine sandstone\n",
    "2.\tNonmarine coarse siltstone\n",
    "3.\tNonmarine fine siltstone\n",
    "4.\tMarine siltstone and shale\n",
    "5.\tMudstone (limestone)\n",
    "6.\tWackestone (limestone)\n",
    "7.\tDolomite\n",
    "8.\tPackstone-grainstone (limestone)\n",
    "9.\tPhylloid-algal bafflestone (limestone)\n",
    "\n",
    "\n",
    "[hint for data preparation: 1) you can remove Well Name, 2) find and fix missing values, 3) put the data into X (data features) and y(Facies Classes)."
   ]
  },
  {
   "cell_type": "code",
   "execution_count": 24,
   "metadata": {},
   "outputs": [
    {
     "data": {
      "text/html": [
       "<div>\n",
       "<style scoped>\n",
       "    .dataframe tbody tr th:only-of-type {\n",
       "        vertical-align: middle;\n",
       "    }\n",
       "\n",
       "    .dataframe tbody tr th {\n",
       "        vertical-align: top;\n",
       "    }\n",
       "\n",
       "    .dataframe thead th {\n",
       "        text-align: right;\n",
       "    }\n",
       "</style>\n",
       "<table border=\"1\" class=\"dataframe\">\n",
       "  <thead>\n",
       "    <tr style=\"text-align: right;\">\n",
       "      <th></th>\n",
       "      <th>Facies</th>\n",
       "      <th>Depth</th>\n",
       "      <th>GR</th>\n",
       "      <th>ILD_log10</th>\n",
       "      <th>DeltaPHI</th>\n",
       "      <th>PHIND</th>\n",
       "      <th>PE</th>\n",
       "      <th>NM_M</th>\n",
       "      <th>RELPOS</th>\n",
       "    </tr>\n",
       "  </thead>\n",
       "  <tbody>\n",
       "    <tr>\n",
       "      <th>count</th>\n",
       "      <td>4149.000000</td>\n",
       "      <td>4149.000000</td>\n",
       "      <td>4149.000000</td>\n",
       "      <td>4149.000000</td>\n",
       "      <td>4149.000000</td>\n",
       "      <td>4149.000000</td>\n",
       "      <td>3232.000000</td>\n",
       "      <td>4149.000000</td>\n",
       "      <td>4149.000000</td>\n",
       "    </tr>\n",
       "    <tr>\n",
       "      <th>mean</th>\n",
       "      <td>4.503254</td>\n",
       "      <td>2906.867438</td>\n",
       "      <td>64.933985</td>\n",
       "      <td>0.659566</td>\n",
       "      <td>4.402484</td>\n",
       "      <td>13.201066</td>\n",
       "      <td>3.725014</td>\n",
       "      <td>1.518438</td>\n",
       "      <td>0.521852</td>\n",
       "    </tr>\n",
       "    <tr>\n",
       "      <th>std</th>\n",
       "      <td>2.474324</td>\n",
       "      <td>133.300164</td>\n",
       "      <td>30.302530</td>\n",
       "      <td>0.252703</td>\n",
       "      <td>5.274947</td>\n",
       "      <td>7.132846</td>\n",
       "      <td>0.896152</td>\n",
       "      <td>0.499720</td>\n",
       "      <td>0.286644</td>\n",
       "    </tr>\n",
       "    <tr>\n",
       "      <th>min</th>\n",
       "      <td>1.000000</td>\n",
       "      <td>2573.500000</td>\n",
       "      <td>10.149000</td>\n",
       "      <td>-0.025949</td>\n",
       "      <td>-21.832000</td>\n",
       "      <td>0.550000</td>\n",
       "      <td>0.200000</td>\n",
       "      <td>1.000000</td>\n",
       "      <td>0.000000</td>\n",
       "    </tr>\n",
       "    <tr>\n",
       "      <th>25%</th>\n",
       "      <td>2.000000</td>\n",
       "      <td>2821.500000</td>\n",
       "      <td>44.730000</td>\n",
       "      <td>0.498000</td>\n",
       "      <td>1.600000</td>\n",
       "      <td>8.500000</td>\n",
       "      <td>3.100000</td>\n",
       "      <td>1.000000</td>\n",
       "      <td>0.277000</td>\n",
       "    </tr>\n",
       "    <tr>\n",
       "      <th>50%</th>\n",
       "      <td>4.000000</td>\n",
       "      <td>2932.500000</td>\n",
       "      <td>64.990000</td>\n",
       "      <td>0.639000</td>\n",
       "      <td>4.300000</td>\n",
       "      <td>12.020000</td>\n",
       "      <td>3.551500</td>\n",
       "      <td>2.000000</td>\n",
       "      <td>0.528000</td>\n",
       "    </tr>\n",
       "    <tr>\n",
       "      <th>75%</th>\n",
       "      <td>6.000000</td>\n",
       "      <td>3007.000000</td>\n",
       "      <td>79.438000</td>\n",
       "      <td>0.822000</td>\n",
       "      <td>7.500000</td>\n",
       "      <td>16.050000</td>\n",
       "      <td>4.300000</td>\n",
       "      <td>2.000000</td>\n",
       "      <td>0.769000</td>\n",
       "    </tr>\n",
       "    <tr>\n",
       "      <th>max</th>\n",
       "      <td>9.000000</td>\n",
       "      <td>3138.000000</td>\n",
       "      <td>361.150000</td>\n",
       "      <td>1.800000</td>\n",
       "      <td>19.312000</td>\n",
       "      <td>84.400000</td>\n",
       "      <td>8.094000</td>\n",
       "      <td>2.000000</td>\n",
       "      <td>1.000000</td>\n",
       "    </tr>\n",
       "  </tbody>\n",
       "</table>\n",
       "</div>"
      ],
      "text/plain": [
       "            Facies        Depth           GR    ILD_log10     DeltaPHI  \\\n",
       "count  4149.000000  4149.000000  4149.000000  4149.000000  4149.000000   \n",
       "mean      4.503254  2906.867438    64.933985     0.659566     4.402484   \n",
       "std       2.474324   133.300164    30.302530     0.252703     5.274947   \n",
       "min       1.000000  2573.500000    10.149000    -0.025949   -21.832000   \n",
       "25%       2.000000  2821.500000    44.730000     0.498000     1.600000   \n",
       "50%       4.000000  2932.500000    64.990000     0.639000     4.300000   \n",
       "75%       6.000000  3007.000000    79.438000     0.822000     7.500000   \n",
       "max       9.000000  3138.000000   361.150000     1.800000    19.312000   \n",
       "\n",
       "             PHIND           PE         NM_M       RELPOS  \n",
       "count  4149.000000  3232.000000  4149.000000  4149.000000  \n",
       "mean     13.201066     3.725014     1.518438     0.521852  \n",
       "std       7.132846     0.896152     0.499720     0.286644  \n",
       "min       0.550000     0.200000     1.000000     0.000000  \n",
       "25%       8.500000     3.100000     1.000000     0.277000  \n",
       "50%      12.020000     3.551500     2.000000     0.528000  \n",
       "75%      16.050000     4.300000     2.000000     0.769000  \n",
       "max      84.400000     8.094000     2.000000     1.000000  "
      ]
     },
     "execution_count": 24,
     "metadata": {},
     "output_type": "execute_result"
    }
   ],
   "source": [
    "# read the csv file facies_vectors.csv \n",
    "\n",
    "faciesdataraw = # complete the code here\n",
    "\n",
    "# check the stats table \n",
    "faciesdataraw.describe()"
   ]
  },
  {
   "cell_type": "markdown",
   "metadata": {},
   "source": [
    "**Observations:**\n",
    "1. PE has less count (less samples)\n",
    "2. Features are multi-scale as indicated from the table"
   ]
  },
  {
   "cell_type": "code",
   "execution_count": 25,
   "metadata": {
    "scrolled": true
   },
   "outputs": [
    {
     "name": "stdout",
     "output_type": "stream",
     "text": [
      "let us look at the data types of each column in the data:\n",
      " Facies         int64\n",
      "Formation     object\n",
      "Well Name     object\n",
      "Depth        float64\n",
      "GR           float64\n",
      "ILD_log10    float64\n",
      "DeltaPHI     float64\n",
      "PHIND        float64\n",
      "PE           float64\n",
      "NM_M           int64\n",
      "RELPOS       float64\n",
      "dtype: object\n"
     ]
    }
   ],
   "source": [
    "# we can check quicklly if we have categorical data or information that we need to remove ( preprocess )\n",
    "print('let us look at the data types of each column in the data:\\n',faciesdataraw.dtypes)"
   ]
  },
  {
   "cell_type": "markdown",
   "metadata": {},
   "source": [
    "**There are some non-numerical data in the dataset. The formation, and well name. These two can  be removed**"
   ]
  },
  {
   "cell_type": "code",
   "execution_count": 26,
   "metadata": {},
   "outputs": [],
   "source": [
    "# Remove the two object columns Formation and Well Name from the loaded dataset\n",
    "faciesdataraw = # complete the code here to drop the two columns "
   ]
  },
  {
   "cell_type": "code",
   "execution_count": 27,
   "metadata": {
    "scrolled": true
   },
   "outputs": [
    {
     "name": "stdout",
     "output_type": "stream",
     "text": [
      "Facies         0\n",
      "Depth          0\n",
      "GR             0\n",
      "ILD_log10      0\n",
      "DeltaPHI       0\n",
      "PHIND          0\n",
      "PE           917\n",
      "NM_M           0\n",
      "RELPOS         0\n",
      "dtype: int64\n"
     ]
    }
   ],
   "source": [
    "# Find out which columns has missing data\n",
    "\n",
    "try:\n",
    "    # new versions of sklearn doesn't have isna\n",
    "    print(faciesdataraw.isna().sum())\n",
    "except:\n",
    "    print(faciesdataraw.isnull().sum())\n",
    "    "
   ]
  },
  {
   "cell_type": "code",
   "execution_count": 28,
   "metadata": {
    "scrolled": true
   },
   "outputs": [
    {
     "data": {
      "text/html": [
       "<div>\n",
       "<style scoped>\n",
       "    .dataframe tbody tr th:only-of-type {\n",
       "        vertical-align: middle;\n",
       "    }\n",
       "\n",
       "    .dataframe tbody tr th {\n",
       "        vertical-align: top;\n",
       "    }\n",
       "\n",
       "    .dataframe thead th {\n",
       "        text-align: right;\n",
       "    }\n",
       "</style>\n",
       "<table border=\"1\" class=\"dataframe\">\n",
       "  <thead>\n",
       "    <tr style=\"text-align: right;\">\n",
       "      <th></th>\n",
       "      <th>Facies</th>\n",
       "      <th>Depth</th>\n",
       "      <th>GR</th>\n",
       "      <th>ILD_log10</th>\n",
       "      <th>DeltaPHI</th>\n",
       "      <th>PHIND</th>\n",
       "      <th>PE</th>\n",
       "      <th>NM_M</th>\n",
       "      <th>RELPOS</th>\n",
       "    </tr>\n",
       "  </thead>\n",
       "  <tbody>\n",
       "    <tr>\n",
       "      <th>count</th>\n",
       "      <td>3232.000000</td>\n",
       "      <td>3232.000000</td>\n",
       "      <td>3232.000000</td>\n",
       "      <td>3232.000000</td>\n",
       "      <td>3232.000000</td>\n",
       "      <td>3232.000000</td>\n",
       "      <td>3232.000000</td>\n",
       "      <td>3232.000000</td>\n",
       "      <td>3232.000000</td>\n",
       "    </tr>\n",
       "    <tr>\n",
       "      <th>mean</th>\n",
       "      <td>4.422030</td>\n",
       "      <td>2875.824567</td>\n",
       "      <td>66.135769</td>\n",
       "      <td>0.642719</td>\n",
       "      <td>3.559642</td>\n",
       "      <td>13.483213</td>\n",
       "      <td>3.725014</td>\n",
       "      <td>1.498453</td>\n",
       "      <td>0.520287</td>\n",
       "    </tr>\n",
       "    <tr>\n",
       "      <th>std</th>\n",
       "      <td>2.504243</td>\n",
       "      <td>131.006274</td>\n",
       "      <td>30.854826</td>\n",
       "      <td>0.241845</td>\n",
       "      <td>5.228948</td>\n",
       "      <td>7.698980</td>\n",
       "      <td>0.896152</td>\n",
       "      <td>0.500075</td>\n",
       "      <td>0.286792</td>\n",
       "    </tr>\n",
       "    <tr>\n",
       "      <th>min</th>\n",
       "      <td>1.000000</td>\n",
       "      <td>2573.500000</td>\n",
       "      <td>13.250000</td>\n",
       "      <td>-0.025949</td>\n",
       "      <td>-21.832000</td>\n",
       "      <td>0.550000</td>\n",
       "      <td>0.200000</td>\n",
       "      <td>1.000000</td>\n",
       "      <td>0.010000</td>\n",
       "    </tr>\n",
       "    <tr>\n",
       "      <th>25%</th>\n",
       "      <td>2.000000</td>\n",
       "      <td>2791.000000</td>\n",
       "      <td>46.918750</td>\n",
       "      <td>0.492750</td>\n",
       "      <td>1.163750</td>\n",
       "      <td>8.346750</td>\n",
       "      <td>3.100000</td>\n",
       "      <td>1.000000</td>\n",
       "      <td>0.273000</td>\n",
       "    </tr>\n",
       "    <tr>\n",
       "      <th>50%</th>\n",
       "      <td>4.000000</td>\n",
       "      <td>2893.500000</td>\n",
       "      <td>65.721500</td>\n",
       "      <td>0.624437</td>\n",
       "      <td>3.500000</td>\n",
       "      <td>12.150000</td>\n",
       "      <td>3.551500</td>\n",
       "      <td>1.000000</td>\n",
       "      <td>0.526000</td>\n",
       "    </tr>\n",
       "    <tr>\n",
       "      <th>75%</th>\n",
       "      <td>6.000000</td>\n",
       "      <td>2980.000000</td>\n",
       "      <td>79.626250</td>\n",
       "      <td>0.812735</td>\n",
       "      <td>6.432500</td>\n",
       "      <td>16.453750</td>\n",
       "      <td>4.300000</td>\n",
       "      <td>2.000000</td>\n",
       "      <td>0.767250</td>\n",
       "    </tr>\n",
       "    <tr>\n",
       "      <th>max</th>\n",
       "      <td>9.000000</td>\n",
       "      <td>3122.500000</td>\n",
       "      <td>361.150000</td>\n",
       "      <td>1.480000</td>\n",
       "      <td>18.600000</td>\n",
       "      <td>84.400000</td>\n",
       "      <td>8.094000</td>\n",
       "      <td>2.000000</td>\n",
       "      <td>1.000000</td>\n",
       "    </tr>\n",
       "  </tbody>\n",
       "</table>\n",
       "</div>"
      ],
      "text/plain": [
       "            Facies        Depth           GR    ILD_log10     DeltaPHI  \\\n",
       "count  3232.000000  3232.000000  3232.000000  3232.000000  3232.000000   \n",
       "mean      4.422030  2875.824567    66.135769     0.642719     3.559642   \n",
       "std       2.504243   131.006274    30.854826     0.241845     5.228948   \n",
       "min       1.000000  2573.500000    13.250000    -0.025949   -21.832000   \n",
       "25%       2.000000  2791.000000    46.918750     0.492750     1.163750   \n",
       "50%       4.000000  2893.500000    65.721500     0.624437     3.500000   \n",
       "75%       6.000000  2980.000000    79.626250     0.812735     6.432500   \n",
       "max       9.000000  3122.500000   361.150000     1.480000    18.600000   \n",
       "\n",
       "             PHIND           PE         NM_M       RELPOS  \n",
       "count  3232.000000  3232.000000  3232.000000  3232.000000  \n",
       "mean     13.483213     3.725014     1.498453     0.520287  \n",
       "std       7.698980     0.896152     0.500075     0.286792  \n",
       "min       0.550000     0.200000     1.000000     0.010000  \n",
       "25%       8.346750     3.100000     1.000000     0.273000  \n",
       "50%      12.150000     3.551500     1.000000     0.526000  \n",
       "75%      16.453750     4.300000     2.000000     0.767250  \n",
       "max      84.400000     8.094000     2.000000     1.000000  "
      ]
     },
     "execution_count": 28,
     "metadata": {},
     "output_type": "execute_result"
    }
   ],
   "source": [
    "# Let us remove the affected rows only. (Hint axis=0)\n",
    "\n",
    "faciesdataraw = faciesdataraw. # complete the code here\n",
    "\n",
    "# check the stats table again\n",
    "faciesdataraw.describe()"
   ]
  },
  {
   "cell_type": "code",
   "execution_count": 29,
   "metadata": {
    "scrolled": true
   },
   "outputs": [
    {
     "name": "stdout",
     "output_type": "stream",
     "text": [
      "Facies       0\n",
      "Depth        0\n",
      "GR           0\n",
      "ILD_log10    0\n",
      "DeltaPHI     0\n",
      "PHIND        0\n",
      "PE           0\n",
      "NM_M         0\n",
      "RELPOS       0\n",
      "dtype: int64\n"
     ]
    }
   ],
   "source": [
    "# quick look at null values\n",
    "print(faciesdataraw.isnull().sum())"
   ]
  },
  {
   "cell_type": "code",
   "execution_count": 30,
   "metadata": {},
   "outputs": [],
   "source": [
    "# extract labels and Data from the dataframe\n",
    "# labels are the column Facies\n",
    "Facilabels =  # complete the code here\n",
    "\n",
    "# data are the all columns except Facies ( you may drop this column from the dataframe)\n",
    "Facidata   = # complete the code here\n",
    "\n",
    "# Let us keep track feature names for visualization\n",
    "featnames  = faciesdataraw.columns"
   ]
  },
  {
   "cell_type": "code",
   "execution_count": 31,
   "metadata": {},
   "outputs": [
    {
     "data": {
      "image/png": "[encoded data removed]",
      "text/plain": [
       "<Figure size 1080x504 with 1 Axes>"
      ]
     },
     "metadata": {
      "needs_background": "light"
     },
     "output_type": "display_data"
    }
   ],
   "source": [
    "# let us show barchart of the data per feature\n",
    "# seabron has countplot to serve this requirment (check the example below)\n",
    "plt.figure(figsize=(15,7))\n",
    "\n",
    "# countplot\n",
    "axs= sns.countplot(x='classes',  data=pd.DataFrame({'classes': Facilabels}), palette='hls')\n",
    "\n",
    "# plot labels \n",
    "axs.set_xlabel('Classes',size=16)\n",
    "axs.set_ylabel('Count',size=16)\n",
    "axs.set_title('Per Class Count', size = 20)\n",
    "plt.show()"
   ]
  },
  {
   "cell_type": "code",
   "execution_count": null,
   "metadata": {
    "scrolled": false
   },
   "outputs": [],
   "source": [
    "# Null accuracy can be competed using a code as:\n",
    "acc =[]\n",
    "# for each label\n",
    "for i in np.unique(Facilabels): \n",
    "    # compute the ratio lbl_count/(all lbls count)\n",
    "    acc.append(float(len(Facidata[Facilabels == i, 0] ) / Facidata.shape[0]))\n",
    "\n",
    "# Now the null accuracy is the max ratio among all computed above\n",
    "print('Second dataset null-accuracy:{0:0.2f}%'.format(np.max(acc)*100))"
   ]
  },
  {
   "cell_type": "markdown",
   "metadata": {},
   "source": [
    "**Dummy classifier** is useful to save time and compute the null accuracy"
   ]
  },
  {
   "cell_type": "code",
   "execution_count": null,
   "metadata": {
    "scrolled": true
   },
   "outputs": [],
   "source": [
    "# Build a dummy classifier to compute the base score\n",
    "\n",
    "# instantiate the dummy clssifier with strategy\n",
    "dummy_clf = # complete the code here\n",
    "\n",
    "\n",
    "# fit the model\n",
    "dummy_clf.fit(Facidata, Facilabels)\n",
    "\n",
    "\n",
    "# compute the score of the model using the same data \n",
    "scr = # complete the code here\n",
    "\n",
    "print('Second dataset null-accuracy:(%0.2f%%)'%scr )"
   ]
  },
  {
   "cell_type": "markdown",
   "metadata": {},
   "source": [
    "**Observations:**\n",
    "\n",
    "1. Our models should be better than 34% accuracy ( Fruit dataset )\n",
    "2. Our model should be better than 23% accuracy ( Facies dataset )"
   ]
  },
  {
   "cell_type": "markdown",
   "metadata": {},
   "source": [
    "********************"
   ]
  },
  {
   "cell_type": "markdown",
   "metadata": {},
   "source": [
    "# Exercise 4: Model selection\n",
    "\n",
    "\n"
   ]
  },
  {
   "cell_type": "markdown",
   "metadata": {},
   "source": [
    "[TOP](#TableOfContents)"
   ]
  },
  {
   "cell_type": "markdown",
   "metadata": {},
   "source": [
    "### Let us find out kNN perfromance\n"
   ]
  },
  {
   "cell_type": "code",
   "execution_count": 34,
   "metadata": {},
   "outputs": [],
   "source": [
    "# divide the data into training and testing\n",
    "from sklearn.model_selection import train_test_split\n",
    "# split the data into train and test\n",
    "Xf_tr, Xf_ts, yf_tr, yf_ts = train_test_split(Facidata,\n",
    "                                                    Facilabels,\n",
    "                                                    test_size=0.2,\n",
    "                                                    random_state=20)\n",
    "\n",
    "\n",
    "# use the training data and split again to train and validation\n",
    "Xf_trb, Xf_tsb, yf_trb, yf_tsb = train_test_split(Xf_tr,\n",
    "                                                    yf_tr,\n",
    "                                                    test_size=0.2,\n",
    "                                                    random_state=20)"
   ]
  },
  {
   "cell_type": "code",
   "execution_count": 35,
   "metadata": {},
   "outputs": [
    {
     "name": "stdout",
     "output_type": "stream",
     "text": [
      "3\n",
      "5\n",
      "7\n",
      "9\n",
      "11\n",
      "13\n",
      "5 kNN models have been created and trained..\n",
      "The best model is (1)\n",
      "The performance of Model 1 is 0.69:\n",
      "Model parameters: {'algorithm': 'auto', 'leaf_size': 30, 'metric': 'minkowski', 'metric_params': None, 'n_jobs': None, 'n_neighbors': 5, 'p': 2, 'weights': 'uniform'}\n"
     ]
    }
   ],
   "source": [
    "# Let us use our function to create several Knn models\n",
    "# build  5 knn models using the training data trb\n",
    "knns = kNNModels (5, Xf_trb, yf_trb)\n",
    "\n",
    "\n",
    "# Run the code below\n",
    "accuracies = []\n",
    "for mdl in knns:\n",
    "    ypred = mdl.predict(Xf_tsb)\n",
    "    acc= accuracy_score(yf_tsb, ypred)\n",
    "    accuracies.append(acc)\n",
    "    \n",
    "    \n",
    "# Show results and best model \n",
    "bestmodel = accuracies.index(max(accuracies)) + 1\n",
    "print('The best model is (%d)'% (bestmodel  ))\n",
    "print('The performance of Model %d is %.2f:'% (bestmodel, max(accuracies)))\n",
    "print('Model parameters:', knns[bestmodel].get_params() )"
   ]
  },
  {
   "cell_type": "code",
   "execution_count": null,
   "metadata": {
    "scrolled": true
   },
   "outputs": [],
   "source": [
    "# Now as we found the best model configuration above \n",
    "# we need to rebuild the model with the whole training data tr\n",
    "\n",
    "# write your code here to build, train, and compute the accuracy of your model\n",
    "\n",
    "\n",
    "\n",
    "# let us evaluate and report the results\n",
    "print('Results: %0.2f accuracy'%    ) # complete this line to shoud the accuracy"
   ]
  },
  {
   "attachments": {},
   "cell_type": "markdown",
   "metadata": {},
   "source": [
    "**Observations**\n",
    "\n",
    "This is better than the baseline, if you are not satisfy with this accuracy think of imporvment by finetune the model's parameters"
   ]
  },
  {
   "cell_type": "markdown",
   "metadata": {},
   "source": [
    "[TOP](#TableOfContents)"
   ]
  },
  {
   "cell_type": "markdown",
   "metadata": {},
   "source": [
    "# Exercise 5 : Resampling data"
   ]
  },
  {
   "attachments": {},
   "cell_type": "markdown",
   "metadata": {},
   "source": [
    "In this exercise, we want to balance the trianing data for the sake of developing a better model for facies classficiation. It can be noticed that classes 1, 4, 5 7  and 9 have few samples compared to classes 2, 3, 6 and 8. Therefore, our target is to increase samples of these classes by 20%\n",
    "\n",
    "**Example**, in case having a binary dataset with class distribution 357 in class1 and 212 in class2, we can balance class2  to 50% instead of the current representation 37.3% by adding this amount of samples\n",
    "\n",
    "**sapmles = (0.5(total_samples) - class_i_samples) / (1 - 0.5)**\n"
   ]
  },
  {
   "cell_type": "code",
   "execution_count": 38,
   "metadata": {},
   "outputs": [],
   "source": [
    "# let us rebuild DataFrame with format (labels - data )\n",
    "\n",
    "# Combine the numpy arrays yf_tr and Xf_trb in Xf (use append)\n",
    "Xf = # complete the code here\n",
    "\n",
    "# Convert Xf into DataFrame, use feature names save before in featnames\n",
    "trainFacies = pd.DataFrame(    ) # complete the code here"
   ]
  },
  {
   "cell_type": "code",
   "execution_count": 39,
   "metadata": {},
   "outputs": [
    {
     "data": {
      "text/html": [
       "<div>\n",
       "<style scoped>\n",
       "    .dataframe tbody tr th:only-of-type {\n",
       "        vertical-align: middle;\n",
       "    }\n",
       "\n",
       "    .dataframe tbody tr th {\n",
       "        vertical-align: top;\n",
       "    }\n",
       "\n",
       "    .dataframe thead th {\n",
       "        text-align: right;\n",
       "    }\n",
       "</style>\n",
       "<table border=\"1\" class=\"dataframe\">\n",
       "  <thead>\n",
       "    <tr style=\"text-align: right;\">\n",
       "      <th></th>\n",
       "      <th>Facies</th>\n",
       "      <th>Depth</th>\n",
       "      <th>GR</th>\n",
       "      <th>ILD_log10</th>\n",
       "      <th>DeltaPHI</th>\n",
       "      <th>PHIND</th>\n",
       "      <th>PE</th>\n",
       "      <th>NM_M</th>\n",
       "      <th>RELPOS</th>\n",
       "    </tr>\n",
       "  </thead>\n",
       "  <tbody>\n",
       "    <tr>\n",
       "      <th>0</th>\n",
       "      <td>3.0</td>\n",
       "      <td>2722.0</td>\n",
       "      <td>40.070</td>\n",
       "      <td>0.595</td>\n",
       "      <td>0.300</td>\n",
       "      <td>8.950</td>\n",
       "      <td>4.900</td>\n",
       "      <td>1.0</td>\n",
       "      <td>1.000</td>\n",
       "    </tr>\n",
       "    <tr>\n",
       "      <th>1</th>\n",
       "      <td>8.0</td>\n",
       "      <td>2971.5</td>\n",
       "      <td>13.617</td>\n",
       "      <td>0.596</td>\n",
       "      <td>1.367</td>\n",
       "      <td>11.133</td>\n",
       "      <td>4.441</td>\n",
       "      <td>2.0</td>\n",
       "      <td>0.500</td>\n",
       "    </tr>\n",
       "    <tr>\n",
       "      <th>2</th>\n",
       "      <td>2.0</td>\n",
       "      <td>2861.5</td>\n",
       "      <td>67.140</td>\n",
       "      <td>0.727</td>\n",
       "      <td>3.800</td>\n",
       "      <td>8.490</td>\n",
       "      <td>3.300</td>\n",
       "      <td>1.0</td>\n",
       "      <td>0.765</td>\n",
       "    </tr>\n",
       "    <tr>\n",
       "      <th>3</th>\n",
       "      <td>3.0</td>\n",
       "      <td>2931.5</td>\n",
       "      <td>67.670</td>\n",
       "      <td>0.430</td>\n",
       "      <td>-9.900</td>\n",
       "      <td>31.450</td>\n",
       "      <td>2.700</td>\n",
       "      <td>1.0</td>\n",
       "      <td>0.300</td>\n",
       "    </tr>\n",
       "    <tr>\n",
       "      <th>4</th>\n",
       "      <td>2.0</td>\n",
       "      <td>2732.5</td>\n",
       "      <td>73.930</td>\n",
       "      <td>0.334</td>\n",
       "      <td>5.900</td>\n",
       "      <td>14.050</td>\n",
       "      <td>3.000</td>\n",
       "      <td>1.0</td>\n",
       "      <td>0.400</td>\n",
       "    </tr>\n",
       "  </tbody>\n",
       "</table>\n",
       "</div>"
      ],
      "text/plain": [
       "   Facies   Depth      GR  ILD_log10  DeltaPHI   PHIND     PE  NM_M  RELPOS\n",
       "0     3.0  2722.0  40.070      0.595     0.300   8.950  4.900   1.0   1.000\n",
       "1     8.0  2971.5  13.617      0.596     1.367  11.133  4.441   2.0   0.500\n",
       "2     2.0  2861.5  67.140      0.727     3.800   8.490  3.300   1.0   0.765\n",
       "3     3.0  2931.5  67.670      0.430    -9.900  31.450  2.700   1.0   0.300\n",
       "4     2.0  2732.5  73.930      0.334     5.900  14.050  3.000   1.0   0.400"
      ]
     },
     "execution_count": 39,
     "metadata": {},
     "output_type": "execute_result"
    }
   ],
   "source": [
    "trainFacies.head()"
   ]
  },
  {
   "cell_type": "code",
   "execution_count": null,
   "metadata": {
    "scrolled": true
   },
   "outputs": [],
   "source": [
    "# For each class, \n",
    "# 1- we want to get how many samples\n",
    "# 2- compute the number of the new samples that we need to add\n",
    "# 3- resample this number and added it to the class-samples\n",
    "\n",
    "\n",
    "# Let us loop for each class that we traget\n",
    "# let us make simple, what are the ables of target classes to be resampled\n",
    "\n",
    "tgclasses = [  ] # complete this line by adding the labels of the target classes\n",
    "\n",
    "# just compute the total number of samples\n",
    "totalsamples = len(yf_trb)\n",
    "\n",
    "# let us make a copy of the Pandas original dataframe\n",
    "trainFacies_upsampled = trainFacies.copy()\n",
    "\n",
    "# This point starts the three point algorithm mentioned above \n",
    "for i in tgclasses:\n",
    "    \n",
    "    # get how many samples in class i\n",
    "    currsamples = # get number of samples currently per class i \n",
    "    \n",
    "    # Compute how many samples need to be resampled for class i ( our target is 15% increase)\n",
    "    num_sapmles  =  # complete the code here using the equation (Exercise 5 description) \n",
    "    \n",
    "    # show how many samples we need to increase the samples in class i by 15%\n",
    "    print('%d smaples neede for class(%d)'%(num_sapmles, i) )\n",
    "    \n",
    "    # step 3: resample:\n",
    "    #1. Extract class i samples and save it in to_resample variable  (hint pd.loc to slice pandas)\n",
    "    to_resample = # complete the code here\n",
    "                        \n",
    "    #2. sample with replacement from to_resample varaible (pandas provides a method called pd.sample(..)   )\n",
    "    new_samples = to_resample.sample(  ,  ) # complete the code here ( 2 params )\n",
    "                        \n",
    "        \n",
    "    #3. Concatonate back the new sampled data to the dataset (hint pd.concat(..) )\n",
    "    # base data: trainFacies_upsampled \n",
    "    # new data:  new_samples\n",
    "    trainFacies_upsampled = # complete the code here\n"
   ]
  },
  {
   "cell_type": "code",
   "execution_count": null,
   "metadata": {
    "scrolled": true
   },
   "outputs": [],
   "source": [
    "# visualize the bar chart of the  trainFacies_upsampled and compare with previous bar char of the original data\n",
    "\n",
    "# Write your code after this  (hint sns.countplot)\n",
    "\n",
    "\n",
    "\n"
   ]
  },
  {
   "cell_type": "markdown",
   "metadata": {},
   "source": [
    "*************"
   ]
  },
  {
   "cell_type": "code",
   "execution_count": null,
   "metadata": {
    "scrolled": true
   },
   "outputs": [],
   "source": [
    "# let us perform the modeling again\n",
    "\n",
    "# Let us use our function to create several Knn models\n",
    "yf_trs = trainFacies_upsampled['Facies'].values\n",
    "Xf_trs =trainFacies_upsampled.drop(['Facies'], axis=1).values\n",
    "knns = kNNModels (5, Xf_trb, yf_trb)\n",
    "\n",
    "\n",
    "# Evaluate using validation\n",
    "accuracies = []\n",
    "for mdl in knns:\n",
    "    ypred = mdl.predict(Xf_ts)\n",
    "    acc= accuracy_score(yf_ts, ypred)\n",
    "    accuracies.append(acc)\n",
    "    \n",
    "# Show results \n",
    "bestmodel = accuracies.index(max(accuracies))+1\n",
    "print ('The best model is (%d)'% (bestmodel  ))\n",
    "print('The performance of Model %d is %.2f:'% (bestmodel, max(accuracies)))\n",
    "print('Model parameters:',knns[bestmodel].get_params() )"
   ]
  },
  {
   "cell_type": "code",
   "execution_count": null,
   "metadata": {
    "scrolled": true
   },
   "outputs": [],
   "source": [
    "# Train a KNN model on full trianing set and evaluate using testing dataset \n",
    "\n",
    "knn = KNeighborsClassifier(n_neighbors=5) # rest are defaults\n",
    "knn.fit(Xf_trs, yf_trs)\n",
    "ypred = knn.predict(Xf_ts)\n",
    "\n",
    "# let us evaluate and report the results\n",
    "print('Results: %0.2f'% knn.score(Xf_ts, yf_ts))"
   ]
  },
  {
   "attachments": {},
   "cell_type": "markdown",
   "metadata": {},
   "source": [
    "**Observatinos**\n",
    "\n",
    "As the model is KNN which is a memory based model, the resampling doesn't affect its performance. However, it may help other machine learning algorithms to boost their performance. "
   ]
  },
  {
   "cell_type": "markdown",
   "metadata": {},
   "source": [
    "<a id=PQuestion6></a>"
   ]
  },
  {
   "cell_type": "markdown",
   "metadata": {},
   "source": [
    "# Exercise 6: Confusion Matrix\n",
    "\n",
    "To understand the ML model mistakes, we need to compute the confusion matrix of the model performance. In this, exercise, refer to your models results in **Exercise 5** and use the predicted results to plot the confusion matrix. Study the confusion matrix and figure out what were the performance issues. "
   ]
  },
  {
   "cell_type": "markdown",
   "metadata": {},
   "source": [
    "[Return to Table of Contents](#TableOfContents)"
   ]
  },
  {
   "cell_type": "code",
   "execution_count": null,
   "metadata": {
    "scrolled": true
   },
   "outputs": [],
   "source": [
    "# load the confusion_matrix module form metrics\n",
    "from  # complete the code here\n",
    "\n",
    "\n",
    "# compute the confusion matrix \n",
    "# input: true labels, and predicted labels\n",
    "\n",
    "mtConf = # complete the code here\n",
    "\n",
    "\n",
    "# print the confusion matrix\n",
    "print(mtConf)"
   ]
  },
  {
   "cell_type": "markdown",
   "metadata": {},
   "source": [
    "### In multi-class, it is better to plot the confusion matrix rather than showing the matrix:\n",
    "    "
   ]
  },
  {
   "cell_type": "code",
   "execution_count": null,
   "metadata": {
    "scrolled": true
   },
   "outputs": [],
   "source": [
    "# sklearn provides a confusion matrix display module as bleow\n",
    "from sklearn.metrics import ConfusionMatrixDisplay\n",
    "\n",
    "# make sure you have computed the confusion matrix as we did in the previous cell\n",
    "# then pass the confusion matrix to the display to visualize\n",
    "\n",
    "# 1- make the display\n",
    "disp = ConfusionMatrixDisplay(    ,     ) # complete the code here ( 2 params)\n",
    "\n",
    "# 2- call the plot of the disp with any color map you prefer\n",
    "disp.plot(cmap='plasma') # check matplot color maps online\n",
    "\n",
    "\n",
    "# To control the size of the plot\n",
    "plt.tight_layout(rect=(0,0,2,2))\n",
    "# show\n",
    "plt.show()"
   ]
  },
  {
   "cell_type": "markdown",
   "metadata": {},
   "source": [
    "***************"
   ]
  },
  {
   "cell_type": "markdown",
   "metadata": {},
   "source": [
    " **Errors:**\n",
    "* 9 samples of class-1 could be similar to class-2 samples\n",
    "* 15 samples of class-2 could be similar to class-1, and 10 samples of class-2 are similar to class-3\n",
    "* and so on\n",
    "\n",
    "**suggested scenarios:**\n",
    "\n",
    "1. First, we may need to revisit data if we don't know a reason behind this overlapping\n",
    "2. The sample overlapping may be due to human error while labeling samples\n",
    "3. Could be no error and these classes have high inter-similarity and we need to keep the situation as is, or \n",
    "4. One solution from an expert could be to merge the overlapping classes to have simpler problem as stage 1,  and then explore solutions for those merged classes separately. "
   ]
  },
  {
   "cell_type": "markdown",
   "metadata": {},
   "source": [
    "From the confusion matrix, we can still compute:\n",
    "* accuracy"
   ]
  },
  {
   "cell_type": "code",
   "execution_count": 48,
   "metadata": {},
   "outputs": [
    {
     "name": "stdout",
     "output_type": "stream",
     "text": [
      "Accuracy:64.30% \n"
     ]
    }
   ],
   "source": [
    "# Use the pervious computed confusion matrix mtConf\n",
    "\n",
    "# Sum over the diagonal of the matrix over the sum of all cells\n",
    "acc =  # complete the code here\n",
    "\n",
    "print('Accuracy:%0.2f%% '% (acc*100))"
   ]
  },
  {
   "cell_type": "markdown",
   "metadata": {},
   "source": [
    "# Exercise 7 (Understand the model performance)\n",
    "\n",
    "Now it is time to study the model performance. Suppose we build a ML model using some dataset, we want to know how precise this model is (in identifying positive class samples), and how about correctly identify positive samples from not reject them as negative class samples (recalling). \n",
    "\n",
    "**Note:** The above scenario is for binary classification, we usually compute the average of the precision and recall for multi-class classfication problems\n",
    "\n",
    "Finally, as there is a tradeoff between recall and precision in most cases, we could endup trying to summarize these two metrics into single value indicator similar to accuracy called F1-score (or fmeasure)"
   ]
  },
  {
   "cell_type": "markdown",
   "metadata": {},
   "source": [
    "[Return to Table of Contents](#TableOfContents)"
   ]
  },
  {
   "cell_type": "code",
   "execution_count": 49,
   "metadata": {
    "scrolled": true
   },
   "outputs": [
    {
     "name": "stdout",
     "output_type": "stream",
     "text": [
      "Experiment Precision = 0.64 \n"
     ]
    }
   ],
   "source": [
    "# Task 1:Precision of the testing results\n",
    "# Compute precision  (use macro average )\n",
    "precision =  # complete the code here\n",
    "print('Experiment Precision = %0.2f '%precision)"
   ]
  },
  {
   "cell_type": "code",
   "execution_count": 50,
   "metadata": {},
   "outputs": [
    {
     "name": "stdout",
     "output_type": "stream",
     "text": [
      "Experiment Recall =0.67 \n"
     ]
    }
   ],
   "source": [
    "# Task 2:Recall of the testing results\n",
    "# Compute Recall (use macro average )\n",
    "recall =  # complete the code here\n",
    "print('Experiment Recall =%0.2f '% recall)\n"
   ]
  },
  {
   "cell_type": "markdown",
   "metadata": {},
   "source": [
    "*****"
   ]
  },
  {
   "cell_type": "markdown",
   "metadata": {},
   "source": [
    "**Note:**\n",
    "* As the gap between precision and recall is not large and yet both are good values, it is a good sign of a robust model.\n",
    "* Although the results above show the model doesn't incline towards one class against the other heavily, with the results above we may need to improve, "
   ]
  },
  {
   "cell_type": "code",
   "execution_count": 51,
   "metadata": {},
   "outputs": [
    {
     "name": "stdout",
     "output_type": "stream",
     "text": [
      "Experiment F1score = =0.64 \n"
     ]
    }
   ],
   "source": [
    "# Task 3:fmeasure of the testing results\n",
    "# Compute F1-score  (use macro average )\n",
    "f1score =  # complete the code here  \n",
    "print('Experiment F1score = =%0.2f '% f1score)"
   ]
  },
  {
   "cell_type": "markdown",
   "metadata": {},
   "source": [
    "**Note:**\n",
    "\n",
    "There are different averaging we can compute, **micro, macro and weighted**. In case of a imbalanced data weighted can be used to report the results!"
   ]
  },
  {
   "cell_type": "code",
   "execution_count": null,
   "metadata": {
    "scrolled": true
   },
   "outputs": [],
   "source": [
    "# We can easily display all possible performance metrics printting the classification report\n",
    "print(  ) # complete the code (hint classification_report(..) )"
   ]
  },
  {
   "cell_type": "markdown",
   "metadata": {},
   "source": [
    "****"
   ]
  },
  {
   "cell_type": "markdown",
   "metadata": {},
   "source": [
    "**Note:** Classificaiton report can accept labels parameter. The labels paramter can be a list of numbers or text names, you can try it below"
   ]
  },
  {
   "cell_type": "code",
   "execution_count": 53,
   "metadata": {},
   "outputs": [
    {
     "name": "stdout",
     "output_type": "stream",
     "text": [
      "              precision    recall  f1-score   support\n",
      "\n",
      "           1       0.66      0.78      0.71        64\n",
      "           2       0.71      0.70      0.70       148\n",
      "           3       0.84      0.65      0.73       109\n",
      "           5       0.43      0.62      0.51        47\n",
      "           6       0.65      0.54      0.59       100\n",
      "           7       0.61      0.74      0.67        19\n",
      "           8       0.70      0.46      0.56        87\n",
      "           9       0.77      0.87      0.82        31\n",
      "\n",
      "   micro avg       0.68      0.64      0.66       605\n",
      "   macro avg       0.67      0.67      0.66       605\n",
      "weighted avg       0.69      0.64      0.66       605\n",
      "\n"
     ]
    }
   ],
   "source": [
    "# Show a subset evaluation of all classes, just drop class label 4 from the list\n",
    "labels = [1,2,3,5, 6, 7, 8, 9]\n",
    "print( ) # complete the code (hint classification_report(..) )"
   ]
  },
  {
   "cell_type": "markdown",
   "metadata": {},
   "source": [
    "***********"
   ]
  },
  {
   "cell_type": "markdown",
   "metadata": {},
   "source": [
    "# Exercise 8 (Cross validation)\n",
    "\n",
    "As the data is imbalanced, we may be lucky and get the best possible testing data chunk out of the random splitting. To investigate this issue in our results, a K-Fold can be used to split the data into different chunks. Every chunk is divided into train and test data.  Then, for each chunk, a model can be trained and tested. The score of each run is kept for final calculation of the performance. Reuse the data in Question 1.5 for 5-fold cross validation and compute the accuracy metrics.\n",
    "\n",
    "Use **trainFacies** dataframe created in a previous exercise\n",
    "\n",
    "Set the k = 3 for knn and build the model\n",
    "\n",
    "\n",
    " \n",
    "\n"
   ]
  },
  {
   "cell_type": "markdown",
   "metadata": {},
   "source": [
    "[Return to Table of Contents](#TableOfContents)"
   ]
  },
  {
   "cell_type": "code",
   "execution_count": 54,
   "metadata": {},
   "outputs": [
    {
     "data": {
      "text/html": [
       "<div>\n",
       "<style scoped>\n",
       "    .dataframe tbody tr th:only-of-type {\n",
       "        vertical-align: middle;\n",
       "    }\n",
       "\n",
       "    .dataframe tbody tr th {\n",
       "        vertical-align: top;\n",
       "    }\n",
       "\n",
       "    .dataframe thead th {\n",
       "        text-align: right;\n",
       "    }\n",
       "</style>\n",
       "<table border=\"1\" class=\"dataframe\">\n",
       "  <thead>\n",
       "    <tr style=\"text-align: right;\">\n",
       "      <th></th>\n",
       "      <th>Facies</th>\n",
       "      <th>Depth</th>\n",
       "      <th>GR</th>\n",
       "      <th>ILD_log10</th>\n",
       "      <th>DeltaPHI</th>\n",
       "      <th>PHIND</th>\n",
       "      <th>PE</th>\n",
       "      <th>NM_M</th>\n",
       "      <th>RELPOS</th>\n",
       "    </tr>\n",
       "  </thead>\n",
       "  <tbody>\n",
       "    <tr>\n",
       "      <th>0</th>\n",
       "      <td>3.0</td>\n",
       "      <td>2722.0</td>\n",
       "      <td>40.070</td>\n",
       "      <td>0.595</td>\n",
       "      <td>0.300</td>\n",
       "      <td>8.950</td>\n",
       "      <td>4.900</td>\n",
       "      <td>1.0</td>\n",
       "      <td>1.000</td>\n",
       "    </tr>\n",
       "    <tr>\n",
       "      <th>1</th>\n",
       "      <td>8.0</td>\n",
       "      <td>2971.5</td>\n",
       "      <td>13.617</td>\n",
       "      <td>0.596</td>\n",
       "      <td>1.367</td>\n",
       "      <td>11.133</td>\n",
       "      <td>4.441</td>\n",
       "      <td>2.0</td>\n",
       "      <td>0.500</td>\n",
       "    </tr>\n",
       "    <tr>\n",
       "      <th>2</th>\n",
       "      <td>2.0</td>\n",
       "      <td>2861.5</td>\n",
       "      <td>67.140</td>\n",
       "      <td>0.727</td>\n",
       "      <td>3.800</td>\n",
       "      <td>8.490</td>\n",
       "      <td>3.300</td>\n",
       "      <td>1.0</td>\n",
       "      <td>0.765</td>\n",
       "    </tr>\n",
       "    <tr>\n",
       "      <th>3</th>\n",
       "      <td>3.0</td>\n",
       "      <td>2931.5</td>\n",
       "      <td>67.670</td>\n",
       "      <td>0.430</td>\n",
       "      <td>-9.900</td>\n",
       "      <td>31.450</td>\n",
       "      <td>2.700</td>\n",
       "      <td>1.0</td>\n",
       "      <td>0.300</td>\n",
       "    </tr>\n",
       "    <tr>\n",
       "      <th>4</th>\n",
       "      <td>2.0</td>\n",
       "      <td>2732.5</td>\n",
       "      <td>73.930</td>\n",
       "      <td>0.334</td>\n",
       "      <td>5.900</td>\n",
       "      <td>14.050</td>\n",
       "      <td>3.000</td>\n",
       "      <td>1.0</td>\n",
       "      <td>0.400</td>\n",
       "    </tr>\n",
       "  </tbody>\n",
       "</table>\n",
       "</div>"
      ],
      "text/plain": [
       "   Facies   Depth      GR  ILD_log10  DeltaPHI   PHIND     PE  NM_M  RELPOS\n",
       "0     3.0  2722.0  40.070      0.595     0.300   8.950  4.900   1.0   1.000\n",
       "1     8.0  2971.5  13.617      0.596     1.367  11.133  4.441   2.0   0.500\n",
       "2     2.0  2861.5  67.140      0.727     3.800   8.490  3.300   1.0   0.765\n",
       "3     3.0  2931.5  67.670      0.430    -9.900  31.450  2.700   1.0   0.300\n",
       "4     2.0  2732.5  73.930      0.334     5.900  14.050  3.000   1.0   0.400"
      ]
     },
     "execution_count": 54,
     "metadata": {},
     "output_type": "execute_result"
    }
   ],
   "source": [
    "# Let us show you the data structure again with head(5)\n",
    "trainFacies. # complete the code here"
   ]
  },
  {
   "cell_type": "markdown",
   "metadata": {},
   "source": [
    "- [x] **Facies:** is the target variable /t\n",
    "- [ ] **Other :** are features "
   ]
  },
  {
   "cell_type": "code",
   "execution_count": null,
   "metadata": {
    "scrolled": true
   },
   "outputs": [],
   "source": [
    "# prepare scores list\n",
    "score =[]\n",
    "\n",
    "# We need to configure KFold\n",
    "# let us make 5 splits with no data shuffling\n",
    "kfold = KFold(n_splits =5, shuffle = False)\n",
    "\n",
    "\n",
    "# Now kfold can split the data into train and test, we need to set a loop for that\n",
    "# so that each time new train and test sets are generated for 5 times as we configure\n",
    "# before\n",
    "for train, test in kfold.split(trainFacies):\n",
    "    \n",
    "    # configure the knn classifier with k = 3\n",
    "    knn = KNeighborsClassifier(n_neighbors=3)\n",
    "    \n",
    "    # let us feed the training stage with training data (slicing the original)\n",
    "    # Now we need to use the train indices to do that \n",
    "    # remember first column in the dataset is the label\n",
    "    knn.fit(trainFacies.iloc[train, 1:], trainFacies.iloc[train, 0] ) \n",
    "    \n",
    "    # Similarily, we need to slice the dataset to extract the test set \n",
    "    # use the test indices test to slice \n",
    "    score.append(knn.score(trainFacies.iloc[test, 1:], trainFacies.iloc[test,0]))\n",
    "    \n",
    "# as the loop ends, score list will have 5 scores per each data split\n",
    "# let us check them out by visualizing them\n",
    "plt.plot(np.linspace(0,max(score), len(score)), score, 'o--' )\n",
    "plt.title('CV score:%2f without shuffling!' % np.mean(score))\n",
    "plt.show()"
   ]
  },
  {
   "cell_type": "markdown",
   "metadata": {},
   "source": [
    "**Observation:** each division shows different results, if we lucky with train-test scenario, we can get up to 69% accuracy! \n",
    "\n",
    "**The above results are using k=3 only** We want to improve and find maybe better k"
   ]
  },
  {
   "cell_type": "markdown",
   "metadata": {},
   "source": [
    "<a id=PQuestion9></a>"
   ]
  },
  {
   "cell_type": "markdown",
   "metadata": {},
   "source": [
    "# Exerice 9 (validation for model selection)\n",
    "\n",
    "We assume that our target search space is to determine which K value is the best for the Facies dataset. Therefore, we decided to reuse the above code from Exercise 8 and add to it a simple outter loop that picks new K value each time and perform cross validation. Finally, we can decide which model is the best. Let us set Ks = [3, 5, 7, 9]. plot the scores as shown above per each iteration "
   ]
  },
  {
   "cell_type": "markdown",
   "metadata": {},
   "source": [
    "[Return to Table of Contents](#TableOfContents)"
   ]
  },
  {
   "cell_type": "code",
   "execution_count": null,
   "metadata": {
    "scrolled": true
   },
   "outputs": [],
   "source": [
    "\n",
    "\n",
    "# Kfold case 1 ( no shuffle )\n",
    "kfold = KFold(n_splits =5, shuffle = False)\n",
    "\n",
    "# let us make list of possible k values ( 4 models )\n",
    "ks =  # complete the code here\n",
    "\n",
    "# To select a model, need to build several models using cross-validation and select the optimal one based on an objective \n",
    "# let us set our objective as the highest accuracy!\n",
    "# we need to have two loops. First loop for loop different models, while second loop is to perform cross-validation \n",
    "\n",
    "\n",
    "i = 1\n",
    "# loop 1: using different ks (different models)\n",
    "for k in ks:\n",
    "    \n",
    "    # here we repeat the previous cell code exactly, and make a minor change at the line where we configure the model\n",
    "    score =[]\n",
    "    # main loop to perform cross validation\n",
    "    for train, test in kfold.split(trainFacies):\n",
    "        \n",
    "        # confgireu the model\n",
    "        knn =  # complete the code here\n",
    "        \n",
    "        \n",
    "        \n",
    "        # fit the knn using trainFacies dataframe - index it using train from the loop\n",
    "        knn.fit(trainFacies.iloc[train, 1:],trainFacies.iloc[train, 0] ) \n",
    "        \n",
    "        # compute the score using test indices and appended the score to our scores list\n",
    "        score.append(knn.score(trainFacies.iloc[test, 1:],trainFacies.iloc[test,0]))\n",
    "        \n",
    "    plt.subplot(2,2,i)\n",
    "    plt.plot(np.linspace(0,max(score), len(score)), score, 'o--' )\n",
    "    plt.title('K = %d, CV score:%2f' % (k, np.mean(score) )) \n",
    "    i+=1\n",
    "    \n",
    "plt.tight_layout(rect=(0,0,1.5,1.5))\n",
    "plt.show()"
   ]
  },
  {
   "cell_type": "markdown",
   "metadata": {},
   "source": [
    "<a id=PQuestion10></a>"
   ]
  },
  {
   "cell_type": "markdown",
   "metadata": {},
   "source": [
    "# Exericse 10: (Grid Search)\n",
    "\n",
    "Grid search makes the coding in pervious exercise much simpler. We don't need to code loops and check each line, we only need to call this method GridSearchCV with certain paramters to return with the best estimator (model).\n",
    "Let us try Grid search to determine the best model among k = [3, 5, 7, 9]\n",
    "\n"
   ]
  },
  {
   "cell_type": "markdown",
   "metadata": {},
   "source": [
    "[Return to Table of Contents](#TableOfContents)"
   ]
  },
  {
   "cell_type": "code",
   "execution_count": null,
   "metadata": {},
   "outputs": [],
   "source": [
    "# list of possible K values\n",
    "ks = [ 3, 5, 7, 9]\n",
    "\n",
    "\n",
    "# configure Gridsearch param - \n",
    "# A dictionary is expected for paramters in GridSearch\n",
    "# The dictionary must have a key matches the model parameter and a value of your choice\n",
    "\n",
    "param = {      } # complete the code here \n",
    "\n",
    "# instantiate the gridsearch with this format (estimator, param, cv, scoring )\n",
    "model = GridSearchCV(KNeighborsClassifier(), param_grid = param, cv = 5, scoring ='accuracy')\n",
    "\n",
    "\n",
    "# Train the gridsearch model using Facies dataset\n",
    "model.fit( trainFacies.iloc[:, 1:], trainFacies.iloc[:,0])\n",
    "\n",
    "# Get the best model (paramters)\n",
    "# Gridsearch provides an attribute called best_estimaor_ where it saves information about the best model found\n",
    "\n",
    "print(     ) # complete the code here"
   ]
  },
  {
   "cell_type": "markdown",
   "metadata": {},
   "source": [
    "**Note:**\n",
    "1. The best value for k is an issue of this algorithm. You should know that small value of K $\\approx 0$ means senstive model (overfitting) and a larger value of k means dummy model (most frequent strategy). \n",
    "1. A rule of thumb here is to choose **$k=\\sqrt{n}$** where n is the number of samples. better choice is to run the kNN with different ks on the training data. Then, decide which K value to choose from as we did in the pervious exercise. "
   ]
  },
  {
   "cell_type": "markdown",
   "metadata": {},
   "source": [
    "[Return to Table of Contents](#TableOfContents)"
   ]
  },
  {
   "cell_type": "markdown",
   "metadata": {},
   "source": [
    "<a id='P2Question1'></a>"
   ]
  },
  {
   "cell_type": "markdown",
   "metadata": {},
   "source": [
    "# Exerice 11 \n",
    "\n",
    "In this exercise, we want to predict a fruite class using Logistic regression method. As described before, the fruites dataset has four features and one target variable. The features include  \n"
   ]
  },
  {
   "cell_type": "markdown",
   "metadata": {},
   "source": [
    "[Return to Table of Contents](#TableOfContents)"
   ]
  },
  {
   "cell_type": "markdown",
   "metadata": {},
   "source": []
  },
  {
   "cell_type": "code",
   "execution_count": null,
   "metadata": {
    "scrolled": true
   },
   "outputs": [],
   "source": [
    "# load the logisticregression from the library\n",
    "from sklearn.linear_model import LogisticRegression\n",
    "\n",
    "# instantiate a model \n",
    "logModel1 =  # complete the code here\n",
    "\n",
    "# train the model (using fruit training data -  fruit_X_train and  fruit_y_train)\n",
    "# complete the code here "
   ]
  },
  {
   "cell_type": "markdown",
   "metadata": {},
   "source": [
    "**Obervation:**\n",
    "The model training algorithm has a complaint as the warning above. to get rid of the warning above by increasing the iterations to 10000, or scale as we do below"
   ]
  },
  {
   "cell_type": "code",
   "execution_count": null,
   "metadata": {
    "scrolled": true
   },
   "outputs": [],
   "source": [
    "# Pipeline model\n",
    "# this model combines preprocessing with an estimator. It is great way to preprocess the data before building a model\n",
    "# another benefit, scales parameters ( max, min, std etc) are computed during training and the pipeline keeps track \n",
    "# of them. So, at the testing time, we need to provide the raw data and pipeline will make sure to scale them before\n",
    "# compute the predictions\n",
    "\n",
    "# As we have the warning above, it is good to build a pipeline instead\n",
    "\n",
    "# instantiate a model format (Transformer Class, Estimator Class) \n",
    "# let us standardscaler and logistic regression \n",
    "modelLg = make_pipeline(   ,    ) # complete the code here\n",
    "\n",
    "# train the model as normal\n",
    "modelLg.fit(fruit_X_train, fruit_y_train)"
   ]
  },
  {
   "cell_type": "code",
   "execution_count": null,
   "metadata": {
    "scrolled": true
   },
   "outputs": [],
   "source": [
    "# Task 4: Classify the test dataset and compute the performance accuracy score.\n",
    "# Now the pipeline modelLg knows the scalling parameters and has ready trained estimator (model)\n",
    "# we need to pass the testing data to it only.\n",
    "\n",
    "# predict labels of new data\n",
    "y_pred = modelLg.predict(fruit_X_test)  \n",
    "\n",
    "# To validate and computethe accuracy on test set       \n",
    "print(classification_report(fruit_y_test, y_pred))"
   ]
  },
  {
   "cell_type": "markdown",
   "metadata": {},
   "source": [
    "**The results above is way better than KNN in Exercise 2**"
   ]
  },
  {
   "cell_type": "markdown",
   "metadata": {
    "scrolled": true
   },
   "source": [
    "# Exercise 12 ( Hard dataset for Logistic Regression)\n",
    "\n",
    "Any non-separable dataset is tough for Logistic Regression to make good performance. Therefore, we need to preporcess the data to enable Logistic Regression finds a good decision bounary. For example, circular dataset is one hard dataset for logistic regression but we can help the model to solve it"
   ]
  },
  {
   "cell_type": "code",
   "execution_count": null,
   "metadata": {
    "scrolled": false
   },
   "outputs": [],
   "source": [
    "# Study the behavior of the logistic Regression on different datasets as circles, moons. How successful was it?\n",
    "\n",
    "# Circule dataset\n",
    "# instantiate the logistic regression \n",
    "logModelcr = # complete the code here\n",
    "\n",
    "# train the model using Xctr yctr\n",
    "# complete your code here\n",
    "\n",
    "# predict labels of testing data Xcts\n",
    "y_pred = # complete your code here\n",
    "\n",
    "# To validate and computethe accuracy on test set       \n",
    "print('Accuracy:', accuracy_score(ycts,y_pred))\n",
    "\n",
    "# let's plot how the decision space look like \n",
    "plot_decisionline (logModelcr, Xcts, ycts , SVM_Model=False )\n",
    "\n",
    "plt.show()"
   ]
  },
  {
   "cell_type": "markdown",
   "metadata": {},
   "source": [
    "**Was the logistic regression successful in separating the two data classes?**\n"
   ]
  },
  {
   "cell_type": "markdown",
   "metadata": {},
   "source": [
    "### Transform the data\n",
    "\n",
    "\n",
    "To build a better model, we need a composite model that perform transformation to the data and then build a classifier. For circular data, we need to add a higher degree feature to separate the inner circle from the outer one. A Guassian transformation could be suitable in this circule dataset as well as polynomials. Let us check the following code cell "
   ]
  },
  {
   "cell_type": "markdown",
   "metadata": {},
   "source": [
    "### A Guassian transformation\n",
    "a [function defined in the beginning](#transform_fea) of this notebook can be used to transform the data and has the form of \n",
    "$r =  e^{-X^2}$"
   ]
  },
  {
   "cell_type": "code",
   "execution_count": null,
   "metadata": {
    "scrolled": true
   },
   "outputs": [],
   "source": [
    "# a custom developed transformer GaussianTransformation\n",
    "\n",
    "\n",
    "# Build a pipeline by including a transformer and logistic regression model\n",
    "modelcir = make_pipeline(GaussianTransformation(), LogisticRegression())\n",
    "\n",
    "\n",
    "# Train the model modelcir with the traiing data\n",
    "modelcir.fit(Xctr, yctr)\n",
    "\n",
    "\n",
    "# Classify the testing data\n",
    "y_pred = modelcir.predict(Xcts)\n",
    "\n",
    "# compute the accuracy of the predictions\n",
    "print ('Testing Accurracy %0.1d%%'% (accuracy_score(ycts, y_pred) *100) )"
   ]
  },
  {
   "cell_type": "markdown",
   "metadata": {},
   "source": [
    "**What do you think about the results?**"
   ]
  },
  {
   "cell_type": "markdown",
   "metadata": {},
   "source": [
    "*********"
   ]
  },
  {
   "cell_type": "code",
   "execution_count": null,
   "metadata": {
    "scrolled": true
   },
   "outputs": [],
   "source": [
    "# visualize the new transformed data to understand what has happened:\n",
    "\n",
    "# instantiate the Gaussian transformer\n",
    "gt = # complete the code here\n",
    "\n",
    "# Transform the Xctr dataset (hint use transform method )\n",
    "newXctr = # complete the code here \n",
    "\n",
    "# plot 3D  ( X1 and X2, color, Z)\n",
    "plot_3D(newXctr[:,:-1] , yctr, newXctr[:,-1])\n",
    "plt.tight_layout(rect=(0,0,1.5, 1.5))\n",
    "plt.title('Two groups can be separated in 3D', fontsize=18)\n",
    "plt.show()"
   ]
  },
  {
   "cell_type": "markdown",
   "metadata": {},
   "source": [
    "**Conclusion:**\n",
    "\n",
    "1. Logistic regression classifier was able to find a perfect model using Blob dataset with clear separation. \n",
    "2. It hard and even harder to it to classify the moon and circule datasets. With circules the performance drops to around 50% which means a decision boundary cannot be found without model mistakes. \n",
    "3. We still can solve such hard problems with data transformation"
   ]
  },
  {
   "cell_type": "markdown",
   "metadata": {},
   "source": [
    "[Return to Table of Contents](#TableOfContents)"
   ]
  },
  {
   "cell_type": "markdown",
   "metadata": {},
   "source": [
    "******"
   ]
  },
  {
   "cell_type": "markdown",
   "metadata": {},
   "source": [
    "# Exercise 13 (Support Vector Machines – Hard Margin)\n",
    "\n",
    "In this exercise, let us explore hard margin SVM to classify clean data into two classes. The dataset is generated for you in the next cell. Use this 80% of data to build an SVM model with hard margin, and the rest used for testing.\n"
   ]
  },
  {
   "cell_type": "code",
   "execution_count": 64,
   "metadata": {},
   "outputs": [],
   "source": [
    "# Separabale data to be classified and tested by SVM classifier\n",
    "X_svm_hard, y_svm_hard = make_blobs(n_samples      = 300, \n",
    "                                      centers      = 2, #will define classes\n",
    "                                      n_features   = 2, \n",
    "                                      cluster_std  = 1,\n",
    "                                      random_state = 6)\n"
   ]
  },
  {
   "cell_type": "markdown",
   "metadata": {},
   "source": [
    "\n",
    "[Return to Table of Contents](#TableOfContents)"
   ]
  },
  {
   "cell_type": "code",
   "execution_count": 65,
   "metadata": {},
   "outputs": [],
   "source": [
    "# First thing first, to load the estimator from sklearn\n",
    "# Load the classifier SVC from svm! Also, it has other versions of it \n",
    "from sklearn.svm import SVC "
   ]
  },
  {
   "cell_type": "markdown",
   "metadata": {},
   "source": [
    "********"
   ]
  },
  {
   "cell_type": "code",
   "execution_count": null,
   "metadata": {},
   "outputs": [],
   "source": [
    "# Split the data into training and testing\n",
    "X_train, X_test, y_train, y_test = train_test_split(X_svm_hard, \n",
    "                                                    y_svm_hard, \n",
    "                                                    test_size  =0.2, \n",
    "                                                    shuffle    =True)"
   ]
  },
  {
   "cell_type": "code",
   "execution_count": null,
   "metadata": {
    "scrolled": true
   },
   "outputs": [],
   "source": [
    "\n",
    "# By default, svm uses rbf kernel, and controls the margin using paramter C\n",
    "# Set C paramter to equal 1e20 (v. high value) for hard margin\n",
    "# Set kernel  to 'linear'\n",
    "svm_hard= SVC(    ,    ).fit(X_train, y_train)   # complete the code here\n",
    "\n",
    "\n",
    "# The previous line will create a model using  training dataset\n",
    "# compute the score (accuracy) on training dataset\n",
    "scr = # complete the code here\n",
    "print('Model score:',  scr   ) \n",
    "\n",
    "\n",
    "# Using a ploting function defined in this notebook to plot a decision space of your classifier svm_hard\n",
    "# call plot decisionline with training data\n",
    "    # write your code here ( 1 line) \n",
    "\n",
    "    \n",
    "plt.tight_layout(rect=(0,0,1.5, 1.5))\n",
    "plt.show()"
   ]
  },
  {
   "cell_type": "markdown",
   "metadata": {},
   "source": [
    "**Study the plot above!** Based on the created data the margin is so tight and separates the two classes perfectly (training dataset). **Don't rush for softmargin, now**. Let's findout how good the results using the testing dataset"
   ]
  },
  {
   "cell_type": "code",
   "execution_count": null,
   "metadata": {
    "scrolled": true
   },
   "outputs": [],
   "source": [
    "# use the model above to predict testing labels\n",
    "y_pred = # complete the code here\n",
    "\n",
    "# check the classification report\n",
    "print(classification_report(y_test, y_pred))"
   ]
  },
  {
   "cell_type": "markdown",
   "metadata": {},
   "source": [
    "**Great results** \n",
    "\n",
    "To achieve such good results using SVM, we need to have a clean separable dataset from the beginning. But this is not how real-world datasets are. Usually, datasets suffer overlapping due to noise, labeling operator mistakes, or even overlapping naturally. As an example, circles or moons datasets are not separable in the first place.  Let us check the below exercise and study how SVM with Hard-margin will behave on such datasets \n",
    "\n"
   ]
  },
  {
   "cell_type": "markdown",
   "metadata": {},
   "source": [
    "**********"
   ]
  },
  {
   "cell_type": "markdown",
   "metadata": {},
   "source": [
    "**Why we need to relax this condition?**\n",
    "\n",
    "Now let's imagine by human error, a worker who responsible for labeling the data have committeed one mistake and label one sample incorrectly. How SVM with Hard margin will behave? Let us do that labeling mistake by changing one of the smaples labels to be in the other class and repeat the procedure above "
   ]
  },
  {
   "cell_type": "code",
   "execution_count": 68,
   "metadata": {},
   "outputs": [],
   "source": [
    "\n",
    "# Get an index of any example randomly \n",
    "ind = random.randint(0, len(X_train))\n",
    "\n",
    "\n",
    "# let us convert that sample label from 0 to 1 or 1 to 0 \n",
    "y_train [ind]  = 1 - y_train [ind] \n",
    "\n",
    "# Now our training set is contain one outlier or noisy data sample - let us check it affect on the model and results"
   ]
  },
  {
   "cell_type": "markdown",
   "metadata": {},
   "source": [
    "**warning:** \n",
    "\n",
    "Based on the modified sample, the SVM with hard margin may take very long time to stop execution(converge). Therefore, you can set the **max_iter** paramter to a **1000** to stop the trianing after 1000 iteration  "
   ]
  },
  {
   "cell_type": "code",
   "execution_count": null,
   "metadata": {
    "scrolled": true
   },
   "outputs": [],
   "source": [
    "# Let us know build an svm_hard again with the traiing dataset as we did before\n",
    "\n",
    "# write your code here to build a hard-margin SVM - max 2 lines to instantiate the SVM and train it\n",
    "svm_hard = \n",
    "\n",
    "\n",
    "\n",
    "# compute the training accuracy \n",
    "scr =  # complete the code here\n",
    "print('Model score:', scr)\n",
    "\n",
    "\n",
    "# Using a ploting function defined in this notebook to plot a decision space of your classifier svm_hard\n",
    "# call plot decisionline with training data\n",
    "    # write your code here ( 1 line) \n",
    "\n",
    "\n",
    "plt.tight_layout(rect=(0,0,1.5, 1.5))\n",
    "plt.show()"
   ]
  },
  {
   "cell_type": "markdown",
   "metadata": {},
   "source": [
    "**Observations:**\n",
    "\n",
    "double click this text to write your observation"
   ]
  },
  {
   "cell_type": "code",
   "execution_count": null,
   "metadata": {},
   "outputs": [],
   "source": [
    "# use the model above to predict testing labels\n",
    "y_pred = # complete the code here\n",
    "\n",
    "# check the classification report\n",
    "print(classification_report(y_test, y_pred))"
   ]
  },
  {
   "cell_type": "markdown",
   "metadata": {},
   "source": [
    "**Conclusion:**\n",
    "\n",
    "1. The above great dataset has affected severely with only one mistake\n",
    "1. The SVM C hyperparamter is one very important to be tuned right for your probelm at hand"
   ]
  },
  {
   "cell_type": "markdown",
   "metadata": {},
   "source": [
    "<a id='P2Question6'></a>"
   ]
  },
  {
   "cell_type": "markdown",
   "metadata": {},
   "source": [
    "# Exercise 14 (Support Vector Machines – Soft Margin)\n",
    "\n",
    "\n",
    "In the last exercise, we are not able to build a good model with a mistaken label due to the hard margin condition. Let's know relax this condition by control the C hyperparamter and reduce it is value. The smaller the value the softer the margin. "
   ]
  },
  {
   "cell_type": "markdown",
   "metadata": {},
   "source": [
    "[Return to Table of Contents](#TableOfContents)"
   ]
  },
  {
   "cell_type": "code",
   "execution_count": null,
   "metadata": {
    "scrolled": true
   },
   "outputs": [],
   "source": [
    "# By default, svm uses linear kernel, and controls the margin using paramter C\n",
    "# To create an SVM with soft-margin we need to set small value for C, \n",
    "# based on the previous Exercise code-guides develop the current\n",
    "\n",
    "# Write your code after this line\n",
    "\n",
    "svm_soft= \n",
    "\n",
    "\n",
    "\n",
    "\n",
    "\n",
    "plt.tight_layout(rect=(0,0,1.5, 1.5))\n",
    "plt.show()"
   ]
  },
  {
   "cell_type": "code",
   "execution_count": null,
   "metadata": {
    "scrolled": true
   },
   "outputs": [],
   "source": [
    "# use the model above to predict testing labels\n",
    "y_pred = # complete the code here\n",
    "\n",
    "# check the classification report\n",
    "print(classification_report(y_test, y_pred))"
   ]
  },
  {
   "cell_type": "markdown",
   "metadata": {},
   "source": [
    "**Obervation**\n",
    "\n",
    "double click this text to write your observation"
   ]
  },
  {
   "cell_type": "markdown",
   "metadata": {},
   "source": [
    "**How about non-separable dataset?** \n",
    "\n",
    "will soft margin enough to solve non-separable problms. let us try svm_soft on **circular dataset**"
   ]
  },
  {
   "cell_type": "code",
   "execution_count": null,
   "metadata": {
    "scrolled": true
   },
   "outputs": [],
   "source": [
    "# Using the circule dataset we created before Xctr, yctr and build svm\n",
    "# instantiate and traing a soft margin svm\n",
    "svm_soft2= # complete the code here \n",
    "\n",
    "\n",
    "# print the accuracy sore of the traiing\n",
    "print('Model score:',svm_soft2.score(Xctr, yctr ))\n",
    "\n",
    "\n",
    "# Using a ploting function defined in this notebook to plot a decision space of your classifier svm_hard\n",
    "# call plot decisionline with training data\n",
    "    # write your code here ( 1 line) \n",
    "\n",
    "\n",
    "plt.tight_layout(rect=(0,0,1.5, 1.5))\n",
    "plt.show()"
   ]
  },
  {
   "cell_type": "markdown",
   "metadata": {},
   "source": [
    "**Observation:**\n",
    "\n",
    "Was the created model good or not to classify circle dataset?\n",
    "\n",
    "Double click this text to answer this question"
   ]
  },
  {
   "cell_type": "markdown",
   "metadata": {},
   "source": [
    "*****"
   ]
  },
  {
   "cell_type": "markdown",
   "metadata": {},
   "source": [
    "# Exercise  15 (SVM and Kernels)\n",
    "\n",
    "The kernel trick of SVM was designed to overcome the limitation encountered due to data non-separable problems. For instance, the XOR problem was presented to challenge discriminant classifiers such as SVM and Perceptron to solve. These linear classifiers weren't able to solve such problems until the idea of the kernel trick has emerged.  \n",
    "\n",
    "The kernel trick is the transformation of data that took place within the machine learning algorithm itself. The kernel methodology is better than a pure transformation of data before modeling. If we perform a transformation before modeling, our data become huge and may be hard to be handled. However, in the kernel trick, the transformation is happening instantaneously during modeling. In addition, SVM performs that using support vectors only! \n",
    "\n",
    "\n",
    "The problem we created above is very diffcult to solve. One misslabeled sample in a middle of data-class makes a great problem. Let us try to slove this problem using RBF kernel. This kernel has a spread parameter **gamma**. The higher the value set for gamma the complex the model will be.  \n"
   ]
  },
  {
   "cell_type": "code",
   "execution_count": null,
   "metadata": {
    "scrolled": true
   },
   "outputs": [],
   "source": [
    "# Sklearn supports several SVC kernels \n",
    "# according to the documentation: four kenrels are supported ‘linear’, ‘poly’, ‘rbf’, ‘sigmoid’\n",
    "# the default kenrnel is the Radial Basis Function 'rbf'\n",
    "\n",
    "# let start with our blob dataset that has a labeling mistake as indicated perviously.\n",
    "# This dataset was solved by tuning the C parameter to small value (softmargin) with linear kernel.\n",
    "# let us check the effect of the rbf kernel on the decision space using the same dataset\n",
    "# Study the below code before run:\n",
    "\n",
    "# let us set C to default = 1, and check the effect of  gamma param\n",
    "# give gamma a range of values between 0.2 to 30 spaced with 7.5\n",
    "gms = np.arange(0.2, 30, 7.5 )\n",
    "\n",
    "# to control subplots\n",
    "i = 1\n",
    "\n",
    "# loop through gammas and build different SVM models\n",
    "for gm in gms:\n",
    "    \n",
    "    # SVM with gamma = gm\n",
    "    svm_RBFt= SVC( gamma=gm, kernel='rbf' ).fit(X_train, y_train)   \n",
    "    \n",
    "    # Visualize the decision boundary\n",
    "    plt.subplot(2,2,i)\n",
    "    \n",
    "    plot_decisionline(svm_RBFt, X_train, y_train, SVM_Model=True)\n",
    "    \n",
    "    plt.title('RBF - gamma=' + str(gm) )\n",
    "    \n",
    "    # next subplot\n",
    "    i +=1\n",
    "    \n",
    "plt.tight_layout(rect=(0,0,2,2))\n",
    "plt.show()\n"
   ]
  },
  {
   "cell_type": "markdown",
   "metadata": {},
   "source": [
    "**Observation:**\n",
    "\n",
    "Study the plots above, what is the effect of gamma on the decision boundaries?\n",
    "\n",
    "Double click this text to write your observation"
   ]
  },
  {
   "cell_type": "markdown",
   "metadata": {},
   "source": [
    "**Circular dataset**\n",
    "\n",
    "let us try to build a svm that can handle this dataset using RBF kenerl below"
   ]
  },
  {
   "cell_type": "code",
   "execution_count": null,
   "metadata": {
    "scrolled": true
   },
   "outputs": [],
   "source": [
    "#  RBF\n",
    "# choose four values for gamma\n",
    "gms = [ ,  ,  ,  ] # complete the code here\n",
    "\n",
    "i = 1\n",
    "for gm in gms:\n",
    "\n",
    "    # build and train a model\n",
    "    svm_soft2=  # complete the code here\n",
    "\n",
    "    # accuracy\n",
    "    score = # complete the code here\n",
    "\n",
    "    \n",
    "    # using the plot svm decision function supplied above to show the decision boundary\n",
    "    plt.subplot(2,2,i)\n",
    "    plot_decisionline(svm_soft2, Xcts, ycts, SVM_Model=True)\n",
    "    \n",
    "    # show the accuracy and gamma as title of each subplot\n",
    "    plt.title('accuracy: '+ str(score) +  ' gamma=' + str(gm))\n",
    "    \n",
    "    # next subplot\n",
    "    i+=1\n",
    "    \n",
    "    \n",
    "    \n",
    "plt.tight_layout(rect=(0,0,2,2))    \n",
    "plt.show()"
   ]
  },
  {
   "cell_type": "markdown",
   "metadata": {},
   "source": [
    "**Observations:**\n",
    "\n",
    "Double click here to write your observations"
   ]
  },
  {
   "cell_type": "markdown",
   "metadata": {},
   "source": [
    "*********"
   ]
  },
  {
   "cell_type": "markdown",
   "metadata": {},
   "source": [
    "# Exercise 16 ( SVM - Facies dataset )"
   ]
  },
  {
   "cell_type": "markdown",
   "metadata": {},
   "source": [
    "In **Exercise 5**, we balanced the facies data and finetune KNN to classify the faceis dataset into 9 classes. The best model's results is **65% accuracy**. Let us use the facies dataset in this exercise and build SVM model with RBF kernel. \n",
    "\n",
    "we want to start with small gamma and set C value to 2 as our baseline results for SVM. C = 2 is still soft-margin, however small gamma is not so flexible. \n",
    "\n",
    "Then, we want to make use **GridSearchCV** to find a robust and the best SVM model to deal with this dataset using four gammas and four Cs.  Let set the four values for gammas between 0.001 to 1 and the other four values for C be 1 to 100"
   ]
  },
  {
   "cell_type": "code",
   "execution_count": 77,
   "metadata": {},
   "outputs": [
    {
     "name": "stdout",
     "output_type": "stream",
     "text": [
      "              precision    recall  f1-score   support\n",
      "\n",
      "           1       0.57      0.78      0.66        32\n",
      "           2       0.64      0.68      0.66       121\n",
      "           3       0.73      0.68      0.71       101\n",
      "           4       0.53      0.69      0.60        29\n",
      "           5       0.51      0.77      0.62        31\n",
      "           6       0.59      0.49      0.54        67\n",
      "           7       0.56      0.88      0.68        16\n",
      "           8       0.78      0.49      0.60        99\n",
      "           9       0.86      0.90      0.88        21\n",
      "\n",
      "    accuracy                           0.65       517\n",
      "   macro avg       0.64      0.71      0.66       517\n",
      "weighted avg       0.67      0.65      0.65       517\n",
      "\n"
     ]
    }
   ],
   "source": [
    "# Base code \n",
    "# RBF different gammas\n",
    "svm_rbf= SVC(kernel='rbf', gamma = 0.001, C=2).fit(Xf_trb, yf_trb)   \n",
    "\n",
    "# let us compute the classification report \n",
    "y_pred = svm_rbf.predict(Xf_tsb)\n",
    "report = classification_report(yf_tsb, y_pred)\n",
    "\n",
    "# using the plot svm decision function supplied above to show the decision boundary\n",
    "print (report)"
   ]
  },
  {
   "cell_type": "code",
   "execution_count": null,
   "metadata": {
    "scrolled": true
   },
   "outputs": [],
   "source": [
    "# Let us finetune the gamma and C paramters using GridSearch\n",
    "\n",
    "# values to finetune svm\n",
    "Cs     = [ , ,  , ] # complete the code here\n",
    "gms = [ ,   ,  , ] # complete the code here\n",
    "\n",
    "# dict parameters\n",
    "param = {'C': Cs, 'gamma': gms, 'kernel': ['rbf']}\n",
    "\n",
    "# instantiate the gridsearch method ( estimator, param, cv, scoring )\n",
    "model = # complete the code here\n",
    "\n",
    "\n",
    "# Cross validate the data\n",
    "model.fit(Xf_trb,yf_trb)\n",
    "\n",
    "# get the best model (paramters)\n",
    "print(model.best_estimator_)"
   ]
  },
  {
   "cell_type": "markdown",
   "metadata": {},
   "source": [
    "**********"
   ]
  },
  {
   "cell_type": "code",
   "execution_count": null,
   "metadata": {
    "scrolled": true
   },
   "outputs": [],
   "source": [
    "# Rebuild the SVM with the best params found above\n",
    "# data:  Xf_trb, yf_trb\n",
    "svm_rbf=  # complete the code here\n",
    "\n",
    "# let us compute the classification report \n",
    "# data: Xf_tsb\n",
    "y_pred =  # complete the code here\n",
    "\n",
    "# compute the classification report\n",
    "# True labels: yf_tsb\n",
    "report = # complete the code here\n",
    "\n",
    "\n",
    "\n",
    "# using the plot svm decision function supplied above to show the decision boundary\n",
    "print (report)"
   ]
  },
  {
   "cell_type": "markdown",
   "metadata": {},
   "source": [
    "****"
   ]
  },
  {
   "cell_type": "markdown",
   "metadata": {},
   "source": [
    "**The results is way better than what KNN achieved so far!**"
   ]
  },
  {
   "cell_type": "code",
   "execution_count": 80,
   "metadata": {},
   "outputs": [
    {
     "data": {
      "image/png": "[encoded data removed]",
      "text/plain": [
       "<Figure size 432x288 with 2 Axes>"
      ]
     },
     "metadata": {
      "needs_background": "light"
     },
     "output_type": "display_data"
    }
   ],
   "source": [
    "# Visualize the confusion matrix to related mistakes\n",
    "# testing data used \n",
    "# confusion matrix\n",
    "mtConf =  # complete the code here\n",
    "\n",
    "# Display confusion matrix \n",
    "disp = # complete the code here\n",
    "\n",
    "\n",
    "# display the matrix with plasma coloring\n",
    "disp.plot(cmap='plasma')\n",
    "\n",
    "\n",
    "plt.tight_layout(rect=(0,0,2,2))\n",
    "plt.show()"
   ]
  },
  {
   "cell_type": "markdown",
   "metadata": {},
   "source": [
    "*************"
   ]
  },
  {
   "cell_type": "markdown",
   "metadata": {},
   "source": [
    "*************"
   ]
  },
  {
   "cell_type": "markdown",
   "metadata": {},
   "source": [
    "# Additional  Exercises"
   ]
  },
  {
   "cell_type": "markdown",
   "metadata": {},
   "source": [
    "<a id='P2QuestionOptional2'></a>"
   ]
  },
  {
   "attachments": {
    "P2Q1.jpg": {
     "image/jpeg": "[encoded data removed]"
    }
   },
   "cell_type": "markdown",
   "metadata": {},
   "source": [
    "## Parctice and study (Cancer Dataset (2 Features))\n",
    "\n",
    "Scikit learn shipped with some benchmark datasets such as iris, house-prices, and cancer data. In this exercise, we are going to explore Cancer dataset.  \n",
    " ![P2Q1.jpg](attachment:P2Q1.jpg)\n",
    "\n",
    "This dataset contains 30 different features. For the purpose of this exercise, pick two features **“mean radius, and mean perimeter”** and use them as a new dataset to perform the following tasks.    \n",
    "\n",
    "\n",
    "**Other classifiers** \n",
    "\n",
    "Sklearn has several other classifiers that you might be interesting to study. For example another non-paramtric classifier is the **Decision Trees Classifier** and the ensemble family of classifiers such as Random Forest, and Boosting classifiers. These classifiers are very strong to model hard problems too. \n",
    "\n",
    "Linear Discriminant Analysis (LDA) is another classifier that brings together data reduction and separation at the same time. It has a workflow similar to PCA however, it maintains separation between classes. For more informaiton about the **Sklearn classifiers** let me invite your to check the [Sklearn cheatsheet](https://scikit-learn.org/stable/tutorial/machine_learning_map/index.html)\n"
   ]
  },
  {
   "cell_type": "markdown",
   "metadata": {},
   "source": [
    "[Return to Table of Contents](#TableOfContents)"
   ]
  },
  {
   "cell_type": "code",
   "execution_count": 81,
   "metadata": {},
   "outputs": [],
   "source": [
    "# load the LDA\n",
    "from sklearn.discriminant_analysis import LinearDiscriminantAnalysis"
   ]
  },
  {
   "cell_type": "code",
   "execution_count": 82,
   "metadata": {},
   "outputs": [],
   "source": [
    "# Load the dataset\n",
    "from sklearn.datasets import load_breast_cancer\n",
    "Cancer = load_breast_cancer()"
   ]
  },
  {
   "cell_type": "code",
   "execution_count": 83,
   "metadata": {},
   "outputs": [
    {
     "name": "stdout",
     "output_type": "stream",
     "text": [
      "Number of features: 30\n",
      "\n",
      "Labels: {0, 1}\n",
      "\n",
      "Feature names:\n",
      "[['mean radius']\n",
      " ['mean texture']\n",
      " ['mean perimeter']\n",
      " ['mean area']\n",
      " ['mean smoothness']\n",
      " ['mean compactness']\n",
      " ['mean concavity']\n",
      " ['mean concave points']\n",
      " ['mean symmetry']\n",
      " ['mean fractal dimension']\n",
      " ['radius error']\n",
      " ['texture error']\n",
      " ['perimeter error']\n",
      " ['area error']\n",
      " ['smoothness error']\n",
      " ['compactness error']\n",
      " ['concavity error']\n",
      " ['concave points error']\n",
      " ['symmetry error']\n",
      " ['fractal dimension error']\n",
      " ['worst radius']\n",
      " ['worst texture']\n",
      " ['worst perimeter']\n",
      " ['worst area']\n",
      " ['worst smoothness']\n",
      " ['worst compactness']\n",
      " ['worst concavity']\n",
      " ['worst concave points']\n",
      " ['worst symmetry']\n",
      " ['worst fractal dimension']]\n"
     ]
    }
   ],
   "source": [
    "# convert it to dataframe and check its properties\n",
    "cancer_pd = pd.DataFrame(data=Cancer.data, columns=Cancer.feature_names)\n",
    "labels = Cancer.target\n",
    "\n",
    "# show the features\n",
    "print('Number of features:', len(Cancer.feature_names)); print()\n",
    "print('Labels:', set(labels)); print('\\nFeature names:')\n",
    "print(Cancer.feature_names[:,None])\n"
   ]
  },
  {
   "cell_type": "code",
   "execution_count": 84,
   "metadata": {},
   "outputs": [
    {
     "name": "stdout",
     "output_type": "stream",
     "text": [
      "       mean radius  mean texture  mean perimeter    mean area  \\\n",
      "count   569.000000    569.000000      569.000000   569.000000   \n",
      "mean     14.127292     19.289649       91.969033   654.889104   \n",
      "std       3.524049      4.301036       24.298981   351.914129   \n",
      "min       6.981000      9.710000       43.790000   143.500000   \n",
      "25%      11.700000     16.170000       75.170000   420.300000   \n",
      "50%      13.370000     18.840000       86.240000   551.100000   \n",
      "75%      15.780000     21.800000      104.100000   782.700000   \n",
      "max      28.110000     39.280000      188.500000  2501.000000   \n",
      "\n",
      "       mean smoothness  mean compactness  mean concavity  mean concave points  \\\n",
      "count       569.000000        569.000000      569.000000           569.000000   \n",
      "mean          0.096360          0.104341        0.088799             0.048919   \n",
      "std           0.014064          0.052813        0.079720             0.038803   \n",
      "min           0.052630          0.019380        0.000000             0.000000   \n",
      "25%           0.086370          0.064920        0.029560             0.020310   \n",
      "50%           0.095870          0.092630        0.061540             0.033500   \n",
      "75%           0.105300          0.130400        0.130700             0.074000   \n",
      "max           0.163400          0.345400        0.426800             0.201200   \n",
      "\n",
      "       mean symmetry  mean fractal dimension  ...  worst radius  \\\n",
      "count     569.000000              569.000000  ...    569.000000   \n",
      "mean        0.181162                0.062798  ...     16.269190   \n",
      "std         0.027414                0.007060  ...      4.833242   \n",
      "min         0.106000                0.049960  ...      7.930000   \n",
      "25%         0.161900                0.057700  ...     13.010000   \n",
      "50%         0.179200                0.061540  ...     14.970000   \n",
      "75%         0.195700                0.066120  ...     18.790000   \n",
      "max         0.304000                0.097440  ...     36.040000   \n",
      "\n",
      "       worst texture  worst perimeter   worst area  worst smoothness  \\\n",
      "count     569.000000       569.000000   569.000000        569.000000   \n",
      "mean       25.677223       107.261213   880.583128          0.132369   \n",
      "std         6.146258        33.602542   569.356993          0.022832   \n",
      "min        12.020000        50.410000   185.200000          0.071170   \n",
      "25%        21.080000        84.110000   515.300000          0.116600   \n",
      "50%        25.410000        97.660000   686.500000          0.131300   \n",
      "75%        29.720000       125.400000  1084.000000          0.146000   \n",
      "max        49.540000       251.200000  4254.000000          0.222600   \n",
      "\n",
      "       worst compactness  worst concavity  worst concave points  \\\n",
      "count         569.000000       569.000000            569.000000   \n",
      "mean            0.254265         0.272188              0.114606   \n",
      "std             0.157336         0.208624              0.065732   \n",
      "min             0.027290         0.000000              0.000000   \n",
      "25%             0.147200         0.114500              0.064930   \n",
      "50%             0.211900         0.226700              0.099930   \n",
      "75%             0.339100         0.382900              0.161400   \n",
      "max             1.058000         1.252000              0.291000   \n",
      "\n",
      "       worst symmetry  worst fractal dimension  \n",
      "count      569.000000               569.000000  \n",
      "mean         0.290076                 0.083946  \n",
      "std          0.061867                 0.018061  \n",
      "min          0.156500                 0.055040  \n",
      "25%          0.250400                 0.071460  \n",
      "50%          0.282200                 0.080040  \n",
      "75%          0.317900                 0.092080  \n",
      "max          0.663800                 0.207500  \n",
      "\n",
      "[8 rows x 30 columns]\n"
     ]
    }
   ],
   "source": [
    "# check and clean the data\n",
    "print(cancer_pd.describe())"
   ]
  },
  {
   "cell_type": "code",
   "execution_count": 85,
   "metadata": {},
   "outputs": [
    {
     "name": "stdout",
     "output_type": "stream",
     "text": [
      "<class 'pandas.core.frame.DataFrame'>\n",
      "RangeIndex: 569 entries, 0 to 568\n",
      "Data columns (total 30 columns):\n",
      " #   Column                   Non-Null Count  Dtype  \n",
      "---  ------                   --------------  -----  \n",
      " 0   mean radius              569 non-null    float64\n",
      " 1   mean texture             569 non-null    float64\n",
      " 2   mean perimeter           569 non-null    float64\n",
      " 3   mean area                569 non-null    float64\n",
      " 4   mean smoothness          569 non-null    float64\n",
      " 5   mean compactness         569 non-null    float64\n",
      " 6   mean concavity           569 non-null    float64\n",
      " 7   mean concave points      569 non-null    float64\n",
      " 8   mean symmetry            569 non-null    float64\n",
      " 9   mean fractal dimension   569 non-null    float64\n",
      " 10  radius error             569 non-null    float64\n",
      " 11  texture error            569 non-null    float64\n",
      " 12  perimeter error          569 non-null    float64\n",
      " 13  area error               569 non-null    float64\n",
      " 14  smoothness error         569 non-null    float64\n",
      " 15  compactness error        569 non-null    float64\n",
      " 16  concavity error          569 non-null    float64\n",
      " 17  concave points error     569 non-null    float64\n",
      " 18  symmetry error           569 non-null    float64\n",
      " 19  fractal dimension error  569 non-null    float64\n",
      " 20  worst radius             569 non-null    float64\n",
      " 21  worst texture            569 non-null    float64\n",
      " 22  worst perimeter          569 non-null    float64\n",
      " 23  worst area               569 non-null    float64\n",
      " 24  worst smoothness         569 non-null    float64\n",
      " 25  worst compactness        569 non-null    float64\n",
      " 26  worst concavity          569 non-null    float64\n",
      " 27  worst concave points     569 non-null    float64\n",
      " 28  worst symmetry           569 non-null    float64\n",
      " 29  worst fractal dimension  569 non-null    float64\n",
      "dtypes: float64(30)\n",
      "memory usage: 133.5 KB\n"
     ]
    }
   ],
   "source": [
    "# let us check NA or non values \n",
    "cancer_pd.info()"
   ]
  },
  {
   "cell_type": "code",
   "execution_count": 86,
   "metadata": {},
   "outputs": [
    {
     "data": {
      "image/png": "[encoded data removed]",
      "text/plain": [
       "<Figure size 402.375x360 with 6 Axes>"
      ]
     },
     "metadata": {
      "needs_background": "light"
     },
     "output_type": "display_data"
    }
   ],
   "source": [
    "# slice two features from the dataset in sub_cancer_pd\n",
    "sub_cancer_pd = cancer_pd[['mean radius', 'mean perimeter']]\n",
    "\n",
    "# sub_cacner_pd['Labels'] = labels\n",
    "sub_cancer_pd.insert(2, \"labels\", labels, True) \n",
    "\n",
    "\n",
    "ax = sns.pairplot(sub_cancer_pd, hue='labels', palette=\"husl\",  vars=['mean radius', 'mean perimeter'] )\n",
    "plt.tight_layout(rect=[0,0,1.5,1.5])\n",
    "plt.show()\n"
   ]
  },
  {
   "cell_type": "markdown",
   "metadata": {},
   "source": [
    "************"
   ]
  },
  {
   "cell_type": "code",
   "execution_count": 87,
   "metadata": {},
   "outputs": [
    {
     "data": {
      "text/html": [
       "<div>\n",
       "<style scoped>\n",
       "    .dataframe tbody tr th:only-of-type {\n",
       "        vertical-align: middle;\n",
       "    }\n",
       "\n",
       "    .dataframe tbody tr th {\n",
       "        vertical-align: top;\n",
       "    }\n",
       "\n",
       "    .dataframe thead th {\n",
       "        text-align: right;\n",
       "    }\n",
       "</style>\n",
       "<table border=\"1\" class=\"dataframe\">\n",
       "  <thead>\n",
       "    <tr style=\"text-align: right;\">\n",
       "      <th></th>\n",
       "      <th>mean radius</th>\n",
       "      <th>mean perimeter</th>\n",
       "    </tr>\n",
       "    <tr>\n",
       "      <th>labels</th>\n",
       "      <th></th>\n",
       "      <th></th>\n",
       "    </tr>\n",
       "  </thead>\n",
       "  <tbody>\n",
       "    <tr>\n",
       "      <th>0</th>\n",
       "      <td>212</td>\n",
       "      <td>212</td>\n",
       "    </tr>\n",
       "    <tr>\n",
       "      <th>1</th>\n",
       "      <td>357</td>\n",
       "      <td>357</td>\n",
       "    </tr>\n",
       "  </tbody>\n",
       "</table>\n",
       "</div>"
      ],
      "text/plain": [
       "        mean radius  mean perimeter\n",
       "labels                             \n",
       "0               212             212\n",
       "1               357             357"
      ]
     },
     "execution_count": 87,
     "metadata": {},
     "output_type": "execute_result"
    }
   ],
   "source": [
    "# Compute how many samples per class\n",
    "sub_cancer_pd.groupby('labels').count()"
   ]
  },
  {
   "cell_type": "code",
   "execution_count": 88,
   "metadata": {},
   "outputs": [
    {
     "data": {
      "image/png": "[encoded data removed]",
      "text/plain": [
       "<Figure size 432x288 with 1 Axes>"
      ]
     },
     "metadata": {
      "needs_background": "light"
     },
     "output_type": "display_data"
    }
   ],
   "source": [
    "# Class distributions ( P1 and P2)\n",
    "pp= sub_cancer_pd.groupby('labels').count()/ len(labels)\n",
    "# pp['mean radius'].values\n",
    "sns.countplot(x='labels', data = sub_cancer_pd, palette='hls')\n",
    "mal_prob=np.round(pp['mean radius'].values[0],2 )\n",
    "ben_prob= np.round(pp['mean radius'].values[1],2 )\n",
    "plt.title(\"malignant {}, Benign {}\".format(mal_prob, ben_prob ) )\n",
    "plt.show()\n"
   ]
  },
  {
   "cell_type": "code",
   "execution_count": 89,
   "metadata": {},
   "outputs": [
    {
     "data": {
      "text/html": [
       "<div>\n",
       "<style scoped>\n",
       "    .dataframe tbody tr th:only-of-type {\n",
       "        vertical-align: middle;\n",
       "    }\n",
       "\n",
       "    .dataframe tbody tr th {\n",
       "        vertical-align: top;\n",
       "    }\n",
       "\n",
       "    .dataframe thead th {\n",
       "        text-align: right;\n",
       "    }\n",
       "</style>\n",
       "<table border=\"1\" class=\"dataframe\">\n",
       "  <thead>\n",
       "    <tr style=\"text-align: right;\">\n",
       "      <th></th>\n",
       "      <th>mean radius</th>\n",
       "      <th>mean perimeter</th>\n",
       "      <th>labels</th>\n",
       "    </tr>\n",
       "  </thead>\n",
       "  <tbody>\n",
       "    <tr>\n",
       "      <th>0</th>\n",
       "      <td>17.99</td>\n",
       "      <td>122.80</td>\n",
       "      <td>0</td>\n",
       "    </tr>\n",
       "    <tr>\n",
       "      <th>1</th>\n",
       "      <td>20.57</td>\n",
       "      <td>132.90</td>\n",
       "      <td>0</td>\n",
       "    </tr>\n",
       "    <tr>\n",
       "      <th>2</th>\n",
       "      <td>19.69</td>\n",
       "      <td>130.00</td>\n",
       "      <td>0</td>\n",
       "    </tr>\n",
       "    <tr>\n",
       "      <th>3</th>\n",
       "      <td>11.42</td>\n",
       "      <td>77.58</td>\n",
       "      <td>0</td>\n",
       "    </tr>\n",
       "    <tr>\n",
       "      <th>4</th>\n",
       "      <td>20.29</td>\n",
       "      <td>135.10</td>\n",
       "      <td>0</td>\n",
       "    </tr>\n",
       "  </tbody>\n",
       "</table>\n",
       "</div>"
      ],
      "text/plain": [
       "   mean radius  mean perimeter  labels\n",
       "0        17.99          122.80       0\n",
       "1        20.57          132.90       0\n",
       "2        19.69          130.00       0\n",
       "3        11.42           77.58       0\n",
       "4        20.29          135.10       0"
      ]
     },
     "execution_count": 89,
     "metadata": {},
     "output_type": "execute_result"
    }
   ],
   "source": [
    "# samples of the data\n",
    "sub_cancer_pd.head()"
   ]
  },
  {
   "cell_type": "code",
   "execution_count": 90,
   "metadata": {},
   "outputs": [
    {
     "name": "stdout",
     "output_type": "stream",
     "text": [
      "Baseline score:(62.74%)\n"
     ]
    }
   ],
   "source": [
    "# Base accuracy (Null)\n",
    "dummy_clf = DummyClassifier(strategy=\"most_frequent\")\n",
    "\n",
    "# requires the fit - to target the most frequent data\n",
    "dummy_clf.fit(sub_cancer_pd.iloc[:,:-1], sub_cancer_pd['labels'])\n",
    "\n",
    "# show the base score - any model we built should be better than this\n",
    "scr = dummy_clf.score(sub_cancer_pd.iloc[:,:-1], sub_cancer_pd['labels']) * 100\n",
    "print('Baseline score:(%0.2f%%)'%scr )\n"
   ]
  },
  {
   "cell_type": "code",
   "execution_count": 91,
   "metadata": {},
   "outputs": [],
   "source": [
    "# divide the data into training and testing ( the data is imbalanced )\n",
    "X_train, X_test, y_train, y_test = train_test_split(sub_cancer_pd.iloc[:,:-1], sub_cancer_pd['labels'], \n",
    "                                                    test_size=0.2, stratify = sub_cancer_pd['labels'], shuffle=True)"
   ]
  },
  {
   "cell_type": "markdown",
   "metadata": {},
   "source": [
    "**Note:**\n",
    "\n",
    "The above data is imbalanced. By the nature of the problem, cancerous (malignant) tumors are less than benign ones. Therefore, changing the nature of the dataset to be balanced may not be realistic. Consequently, we need to perform cross-validation and report the average performance instead.  "
   ]
  },
  {
   "cell_type": "code",
   "execution_count": 92,
   "metadata": {},
   "outputs": [],
   "source": [
    "# # You can use the same data division used to generate the results below \n",
    "# # by uncommenting this lines\n",
    "# import pickle\n",
    "filename = 'Data/cancer_data_train_test.sav'\n",
    "data = pickle.load(open(filename, 'rb'))\n",
    "X_train, X_test, y_train, y_test = data\n"
   ]
  },
  {
   "cell_type": "code",
   "execution_count": 93,
   "metadata": {},
   "outputs": [
    {
     "name": "stdout",
     "output_type": "stream",
     "text": [
      "              precision    recall  f1-score   support\n",
      "\n",
      "           0       0.90      0.86      0.88        42\n",
      "           1       0.92      0.94      0.93        72\n",
      "\n",
      "    accuracy                           0.91       114\n",
      "   macro avg       0.91      0.90      0.90       114\n",
      "weighted avg       0.91      0.91      0.91       114\n",
      "\n"
     ]
    }
   ],
   "source": [
    "# Logistic regression model\n",
    "# build a model and train it\n",
    "logModel = LogisticRegression().fit(X_train, y_train)\n",
    "\n",
    "# report the results using testing data\n",
    "y_pred = logModel.predict(X_test)\n",
    "print(classification_report(y_test, y_pred))\n"
   ]
  },
  {
   "cell_type": "markdown",
   "metadata": {},
   "source": [
    "**Observation:** The results is good compared to baseline accuracy. We can improve this right! check the pairplot above of this data. we can observe an overlap between the classes. Therefore, we may fix it by transformation. Let us know build a pipeline classifier and try again"
   ]
  },
  {
   "cell_type": "code",
   "execution_count": 94,
   "metadata": {},
   "outputs": [
    {
     "data": {
      "text/html": [
       "<div>\n",
       "<style scoped>\n",
       "    .dataframe tbody tr th:only-of-type {\n",
       "        vertical-align: middle;\n",
       "    }\n",
       "\n",
       "    .dataframe tbody tr th {\n",
       "        vertical-align: top;\n",
       "    }\n",
       "\n",
       "    .dataframe thead th {\n",
       "        text-align: right;\n",
       "    }\n",
       "</style>\n",
       "<table border=\"1\" class=\"dataframe\">\n",
       "  <thead>\n",
       "    <tr style=\"text-align: right;\">\n",
       "      <th></th>\n",
       "      <th>mean radius</th>\n",
       "      <th>mean perimeter</th>\n",
       "    </tr>\n",
       "  </thead>\n",
       "  <tbody>\n",
       "    <tr>\n",
       "      <th>560</th>\n",
       "      <td>14.050</td>\n",
       "      <td>91.38</td>\n",
       "    </tr>\n",
       "    <tr>\n",
       "      <th>26</th>\n",
       "      <td>14.580</td>\n",
       "      <td>97.41</td>\n",
       "    </tr>\n",
       "    <tr>\n",
       "      <th>553</th>\n",
       "      <td>9.333</td>\n",
       "      <td>59.01</td>\n",
       "    </tr>\n",
       "    <tr>\n",
       "      <th>497</th>\n",
       "      <td>12.470</td>\n",
       "      <td>80.45</td>\n",
       "    </tr>\n",
       "    <tr>\n",
       "      <th>120</th>\n",
       "      <td>11.410</td>\n",
       "      <td>73.34</td>\n",
       "    </tr>\n",
       "    <tr>\n",
       "      <th>...</th>\n",
       "      <td>...</td>\n",
       "      <td>...</td>\n",
       "    </tr>\n",
       "    <tr>\n",
       "      <th>498</th>\n",
       "      <td>18.490</td>\n",
       "      <td>121.30</td>\n",
       "    </tr>\n",
       "    <tr>\n",
       "      <th>323</th>\n",
       "      <td>20.340</td>\n",
       "      <td>135.90</td>\n",
       "    </tr>\n",
       "    <tr>\n",
       "      <th>188</th>\n",
       "      <td>11.810</td>\n",
       "      <td>75.27</td>\n",
       "    </tr>\n",
       "    <tr>\n",
       "      <th>268</th>\n",
       "      <td>12.870</td>\n",
       "      <td>82.38</td>\n",
       "    </tr>\n",
       "    <tr>\n",
       "      <th>304</th>\n",
       "      <td>11.460</td>\n",
       "      <td>73.59</td>\n",
       "    </tr>\n",
       "  </tbody>\n",
       "</table>\n",
       "<p>455 rows × 2 columns</p>\n",
       "</div>"
      ],
      "text/plain": [
       "     mean radius  mean perimeter\n",
       "560       14.050           91.38\n",
       "26        14.580           97.41\n",
       "553        9.333           59.01\n",
       "497       12.470           80.45\n",
       "120       11.410           73.34\n",
       "..           ...             ...\n",
       "498       18.490          121.30\n",
       "323       20.340          135.90\n",
       "188       11.810           75.27\n",
       "268       12.870           82.38\n",
       "304       11.460           73.59\n",
       "\n",
       "[455 rows x 2 columns]"
      ]
     },
     "execution_count": 94,
     "metadata": {},
     "output_type": "execute_result"
    }
   ],
   "source": [
    "np.log(X_train)\n",
    "X_train"
   ]
  },
  {
   "cell_type": "markdown",
   "metadata": {},
   "source": [
    "## Transformation\n",
    "1. LOG TRANSFORMATION:\n",
    "- It makes our data close to a normal distribution without fully abide by a normal distribution.\n",
    "- Cannot be applied to negative values.\n",
    "- Suitable to right-skewed data.\n",
    "- Convert data from multiplicative scale to addictive Scale. \n",
    "1. RECIPROCAL TRANSFORMATION\n",
    "- Not defined for zero.\n",
    "- It has radical effect.\n",
    "- It reverses order among values of the same sign, so large values become smaller and vice-versa.\n",
    "1. SQUARE TRANSFORMATION\n",
    "- It applies to left-skewed data.\n",
    "- It is not a polynomial feature transformation!\n",
    "1. SQUARE ROOT TRANSFORMATION:\n",
    "- It is defined only for positive numbers.\n",
    "- It can reduce the skewness of right-skewed data."
   ]
  },
  {
   "cell_type": "code",
   "execution_count": 95,
   "metadata": {},
   "outputs": [],
   "source": [
    "# custom transformation\n",
    "from sklearn.base import TransformerMixin\n",
    "\n",
    "# Square\n",
    "class SquareTransformation(TransformerMixin):\n",
    "    transformed_data = None\n",
    "    def __init__(self):\n",
    "        self.transformed_data = [] \n",
    "    \n",
    "    def fit(self, X, y=None):\n",
    "        return self\n",
    "    \n",
    "    # let us define our Guassian transformation becuase it fits circle datasets\n",
    "    def transform(self, X, y=None):\n",
    "        X_ = X.copy()\n",
    "        X_  = X_**2\n",
    "        self.transformed_data = X_\n",
    "        return X_\n",
    "\n",
    "# log transform\n",
    "class LogTransformation(TransformerMixin):\n",
    "    transformed_data = None\n",
    "    def __init__(self):\n",
    "        self.transformed_data = [] \n",
    "    \n",
    "    def fit(self, X, y=None):\n",
    "        return self\n",
    "    \n",
    "    # let us define our Guassian transformation becuase it fits circle datasets\n",
    "    def transform(self, X, y=None):\n",
    "        X_ = X.copy()\n",
    "        X_  = np.log1p(X_)\n",
    "        self.transformed_data = X_\n",
    "        return X_\n",
    "\n",
    "# Sqrt transform\n",
    "class SQRTTransformation(TransformerMixin):\n",
    "    transformed_data = None\n",
    "    def __init__(self):\n",
    "        self.transformed_data = [] \n",
    "    \n",
    "    def fit(self, X, y=None):\n",
    "        return self\n",
    "    \n",
    "    # let us define our Guassian transformation becuase it fits circle datasets\n",
    "    def transform(self, X, y=None):\n",
    "        X_ = X.copy()\n",
    "        X_  = np.sqrt(X_)\n",
    "        self.transformed_data = X_\n",
    "        return X_"
   ]
  },
  {
   "cell_type": "code",
   "execution_count": 96,
   "metadata": {},
   "outputs": [
    {
     "name": "stdout",
     "output_type": "stream",
     "text": [
      "              precision    recall  f1-score   support\n",
      "\n",
      "           0       0.95      0.86      0.90        42\n",
      "           1       0.92      0.97      0.95        72\n",
      "\n",
      "    accuracy                           0.93       114\n",
      "   macro avg       0.93      0.91      0.92       114\n",
      "weighted avg       0.93      0.93      0.93       114\n",
      "\n"
     ]
    }
   ],
   "source": [
    "# let us use higher features using a transformer and report the classification above\n",
    "from sklearn.preprocessing import PowerTransformer\n",
    "# instantiate a model \n",
    "modelLg = make_pipeline(LogTransformation(), LogisticRegression( ))\n",
    "\n",
    "# train the model\n",
    "modelLg.fit(X_train.values, y_train)\n",
    "\n",
    "# report the results using testing data\n",
    "y_pred = modelLg.predict(X_test.values)\n",
    "\n",
    "print(classification_report(y_test, y_pred))"
   ]
  },
  {
   "cell_type": "markdown",
   "metadata": {},
   "source": [
    "**Obervation:** A little progress in terms of accuracy 1%"
   ]
  },
  {
   "cell_type": "markdown",
   "metadata": {},
   "source": [
    "## SVM: Cancer dataset"
   ]
  },
  {
   "cell_type": "code",
   "execution_count": 97,
   "metadata": {},
   "outputs": [
    {
     "name": "stdout",
     "output_type": "stream",
     "text": [
      "              precision    recall  f1-score   support\n",
      "\n",
      "           0       0.97      0.83      0.90        42\n",
      "           1       0.91      0.99      0.95        72\n",
      "\n",
      "    accuracy                           0.93       114\n",
      "   macro avg       0.94      0.91      0.92       114\n",
      "weighted avg       0.93      0.93      0.93       114\n",
      "\n"
     ]
    }
   ],
   "source": [
    "# SVM  model\n",
    "# build a model and train it (rbf)\n",
    "svmModel = SVC(gamma='auto', C=1).fit(X_train, y_train)\n",
    "\n",
    "# report the results using testing data\n",
    "y_pred = svmModel.predict(X_test)\n",
    "print(classification_report(y_test, y_pred))\n"
   ]
  },
  {
   "cell_type": "code",
   "execution_count": 98,
   "metadata": {},
   "outputs": [
    {
     "data": {
      "image/png": "[encoded data removed]",
      "text/plain": [
       "<Figure size 432x288 with 2 Axes>"
      ]
     },
     "metadata": {
      "needs_background": "light"
     },
     "output_type": "display_data"
    }
   ],
   "source": [
    "mtConf = confusion_matrix(y_test, y_pred)\n",
    "disp = ConfusionMatrixDisplay(confusion_matrix=mtConf, display_labels=svmModel.classes_)\n",
    "disp.plot(cmap='plasma')\n",
    "plt.tight_layout(rect=(0,0,2,2))\n",
    "plt.show()"
   ]
  },
  {
   "cell_type": "code",
   "execution_count": 99,
   "metadata": {},
   "outputs": [
    {
     "data": {
      "text/plain": [
       "mean radius        27.42\n",
       "mean perimeter    186.90\n",
       "dtype: float64"
      ]
     },
     "execution_count": 99,
     "metadata": {},
     "output_type": "execute_result"
    }
   ],
   "source": [
    "# let check scale again\n",
    "np.max(X_train)"
   ]
  },
  {
   "cell_type": "markdown",
   "metadata": {},
   "source": [
    "Better to rescale the data for SVM to work faster"
   ]
  },
  {
   "cell_type": "code",
   "execution_count": 100,
   "metadata": {},
   "outputs": [
    {
     "name": "stdout",
     "output_type": "stream",
     "text": [
      "              precision    recall  f1-score   support\n",
      "\n",
      "           0       0.95      0.83      0.89        42\n",
      "           1       0.91      0.97      0.94        72\n",
      "\n",
      "    accuracy                           0.92       114\n",
      "   macro avg       0.93      0.90      0.91       114\n",
      "weighted avg       0.92      0.92      0.92       114\n",
      "\n"
     ]
    }
   ],
   "source": [
    "# SVM  model ( It is recommended to scale data for SVM to reduce time )\n",
    "svmModel = make_pipeline(MinMaxScaler(), SVC( ))\n",
    "\n",
    "# train the model\n",
    "svmModel.fit(X_train, y_train)\n",
    "\n",
    "# report the results using testing data\n",
    "y_pred = svmModel.predict(X_test)\n",
    "\n",
    "print(classification_report(y_test, y_pred))"
   ]
  },
  {
   "cell_type": "code",
   "execution_count": 101,
   "metadata": {},
   "outputs": [
    {
     "data": {
      "image/png": "[encoded data removed]",
      "text/plain": [
       "<Figure size 432x288 with 2 Axes>"
      ]
     },
     "metadata": {
      "needs_background": "light"
     },
     "output_type": "display_data"
    }
   ],
   "source": [
    "mtConf = confusion_matrix(y_test, y_pred)\n",
    "disp = ConfusionMatrixDisplay(confusion_matrix=mtConf, display_labels=svmModel.classes_)\n",
    "disp.plot(cmap='plasma')\n",
    "plt.tight_layout(rect=(0,0,2,2))\n",
    "plt.show()"
   ]
  },
  {
   "cell_type": "code",
   "execution_count": 102,
   "metadata": {},
   "outputs": [
    {
     "name": "stdout",
     "output_type": "stream",
     "text": [
      "Execution time: 0.06 minutes\n",
      "              precision    recall  f1-score   support\n",
      "\n",
      "           0       0.90      0.88      0.89        42\n",
      "           1       0.93      0.94      0.94        72\n",
      "\n",
      "    accuracy                           0.92       114\n",
      "   macro avg       0.92      0.91      0.91       114\n",
      "weighted avg       0.92      0.92      0.92       114\n",
      "\n"
     ]
    }
   ],
   "source": [
    "\n",
    "\n",
    "Cs     = [0.1, 0.5, 1 ]\n",
    "gms    = [10, 30, 'auto', 'scale' ]\n",
    "deg    = [1, 2, 3 ]\n",
    "# dict parameters\n",
    "param = {'C': Cs, 'gamma': gms, 'degree': deg, 'kernel': ['poly']}\n",
    "\n",
    "# instantiate the gridsearch method ( estimator, param, cv, scoring )\n",
    "svmModel = GridSearchCV(SVC(), param_grid = param, cv=5, scoring='accuracy')\n",
    "\n",
    "mnmx = StandardScaler().fit(X_train)\n",
    "\n",
    "start = time.time()\n",
    "svmModel.fit(mnmx.transform(X_train), y_train)\n",
    "end = time.time()\n",
    "\n",
    "#Execution time\n",
    "total_time = end - start\n",
    "print(\"Execution time: %0.2f minutes\"%(total_time/60.0))\n",
    "\n",
    "\n",
    "# report the results using testing data\n",
    "y_pred = svmModel.predict(mnmx.transform(X_test))\n",
    "print(classification_report(y_test, y_pred))"
   ]
  },
  {
   "cell_type": "code",
   "execution_count": 103,
   "metadata": {},
   "outputs": [
    {
     "data": {
      "image/png": "[encoded data removed]",
      "text/plain": [
       "<Figure size 432x288 with 2 Axes>"
      ]
     },
     "metadata": {
      "needs_background": "light"
     },
     "output_type": "display_data"
    }
   ],
   "source": [
    "mtConf = confusion_matrix(y_test, y_pred)\n",
    "disp = ConfusionMatrixDisplay(confusion_matrix=mtConf, display_labels=svmModel.classes_)\n",
    "disp.plot(cmap='plasma')\n",
    "plt.tight_layout(rect=(0,0,2,2))\n",
    "plt.show()"
   ]
  },
  {
   "cell_type": "code",
   "execution_count": 104,
   "metadata": {},
   "outputs": [
    {
     "name": "stdout",
     "output_type": "stream",
     "text": [
      "Execution time: 0.00 minutes\n",
      "              precision    recall  f1-score   support\n",
      "\n",
      "           0       0.97      0.83      0.90        42\n",
      "           1       0.91      0.99      0.95        72\n",
      "\n",
      "    accuracy                           0.93       114\n",
      "   macro avg       0.94      0.91      0.92       114\n",
      "weighted avg       0.93      0.93      0.93       114\n",
      "\n"
     ]
    }
   ],
   "source": [
    "\n",
    "\n",
    "\n",
    "# values to finetune svm\n",
    "Cs     = [0.1, 0.5, 1 ]\n",
    "gms    = [10, 30, 'auto', 'scale' ]\n",
    "\n",
    "# dict parameters\n",
    "param = {'C': Cs, 'gamma': gms, 'kernel': ['rbf']}\n",
    "\n",
    "# instantiate the gridsearch method ( estimator, param, cv, scoring )\n",
    "svmModel = GridSearchCV(SVC(), param_grid = param, cv=5, scoring='accuracy')\n",
    "\n",
    "mnmx = MinMaxScaler().fit(X_train)\n",
    "\n",
    "start = time.time() \n",
    "svmModel.fit(mnmx.transform(X_train), y_train)\n",
    "end = time.time()\n",
    "\n",
    "#Execution time\n",
    "total_time = end - start\n",
    "print(\"Execution time: %0.2f minutes\"%(total_time/60.0))\n",
    "\n",
    "\n",
    "# report the results using testing data\n",
    "y_pred = svmModel.predict(mnmx.transform(X_test))\n",
    "print(classification_report(y_test, y_pred))\n",
    "\n",
    "\n",
    "\n"
   ]
  },
  {
   "cell_type": "code",
   "execution_count": 105,
   "metadata": {
    "scrolled": false
   },
   "outputs": [
    {
     "data": {
      "image/png": "[encoded data removed]",
      "text/plain": [
       "<Figure size 432x288 with 2 Axes>"
      ]
     },
     "metadata": {
      "needs_background": "light"
     },
     "output_type": "display_data"
    }
   ],
   "source": [
    "mtConf = confusion_matrix(y_test, y_pred)\n",
    "disp = ConfusionMatrixDisplay(confusion_matrix=mtConf, display_labels=svmModel.classes_)\n",
    "disp.plot(cmap='plasma')\n",
    "plt.tight_layout(rect=(0,0,2,2))\n",
    "plt.show()"
   ]
  },
  {
   "cell_type": "code",
   "execution_count": 106,
   "metadata": {},
   "outputs": [
    {
     "name": "stdout",
     "output_type": "stream",
     "text": [
      "Execution time: 0.00 minutes\n",
      "              precision    recall  f1-score   support\n",
      "\n",
      "           0       0.80      0.88      0.84        42\n",
      "           1       0.93      0.88      0.90        72\n",
      "\n",
      "    accuracy                           0.88       114\n",
      "   macro avg       0.87      0.88      0.87       114\n",
      "weighted avg       0.88      0.88      0.88       114\n",
      "\n"
     ]
    }
   ],
   "source": [
    "\n",
    "\n",
    "\n",
    "# values to finetune svm\n",
    "Cs     = [0.1, 0.5, 1 ]\n",
    "gms    = [10, 30, 'auto', 'scale' ]\n",
    "\n",
    "# dict parameters\n",
    "param = {'C': Cs, 'gamma': gms, 'kernel': ['sigmoid']}\n",
    "\n",
    "# instantiate the gridsearch method ( estimator, param, cv, scoring )\n",
    "svmModel = GridSearchCV(SVC(), param_grid = param, cv=5, scoring='accuracy')\n",
    "\n",
    "mnmx = StandardScaler().fit(X_train)\n",
    "start = time.time()\n",
    "svmModel.fit(mnmx.transform(X_train), y_train)\n",
    "end = time.time()\n",
    "\n",
    "#Execution time\n",
    "total_time = end - start\n",
    "print(\"Execution time: %0.2f minutes\"%(total_time/60.0))\n",
    "\n",
    "\n",
    "# report the results using testing data\n",
    "y_pred = svmModel.predict(mnmx.transform(X_test))\n",
    "print(classification_report(y_test, y_pred))"
   ]
  },
  {
   "cell_type": "code",
   "execution_count": 107,
   "metadata": {},
   "outputs": [
    {
     "data": {
      "image/png": "[encoded data removed]",
      "text/plain": [
       "<Figure size 432x288 with 2 Axes>"
      ]
     },
     "metadata": {
      "needs_background": "light"
     },
     "output_type": "display_data"
    }
   ],
   "source": [
    "mtConf = confusion_matrix(y_test, y_pred)\n",
    "disp = ConfusionMatrixDisplay(confusion_matrix=mtConf, display_labels=svmModel.classes_)\n",
    "disp.plot(cmap='plasma')\n",
    "plt.tight_layout(rect=(0,0,2,2))\n",
    "plt.show()"
   ]
  },
  {
   "cell_type": "code",
   "execution_count": 108,
   "metadata": {},
   "outputs": [
    {
     "name": "stdout",
     "output_type": "stream",
     "text": [
      "              precision    recall  f1-score   support\n",
      "\n",
      "           0       0.90      0.88      0.89        42\n",
      "           1       0.93      0.94      0.94        72\n",
      "\n",
      "    accuracy                           0.92       114\n",
      "   macro avg       0.92      0.91      0.91       114\n",
      "weighted avg       0.92      0.92      0.92       114\n",
      "\n"
     ]
    }
   ],
   "source": [
    "# values to finetune svm\n",
    "Cs     = [0.1, 0.5, 1 ]\n",
    "gms    = ['auto', 'scale', 10, 30  ]\n",
    "deg    = [1, 2,3] \n",
    "\n",
    "# dict parameters\n",
    "param = {'C': Cs, 'gamma': gms, 'degree': deg,  'kernel': [ 'poly', 'rbf','sigmoid']}\n",
    "\n",
    "# instantiate the gridsearch method ( estimator, param, cv, scoring )\n",
    "svmModel = GridSearchCV(SVC(), param_grid = param, cv=5, scoring='accuracy')\n",
    "\n",
    "mnmx = StandardScaler().fit(X_train)\n",
    "\n",
    "svmModel.fit(mnmx.transform(X_train), y_train)\n",
    "\n",
    "# report the results using testing data\n",
    "y_pred = svmModel.predict(mnmx.transform(X_test))\n",
    "print(classification_report(y_test, y_pred))"
   ]
  },
  {
   "cell_type": "code",
   "execution_count": 109,
   "metadata": {},
   "outputs": [
    {
     "data": {
      "image/png": "[encoded data removed]",
      "text/plain": [
       "<Figure size 432x288 with 2 Axes>"
      ]
     },
     "metadata": {
      "needs_background": "light"
     },
     "output_type": "display_data"
    }
   ],
   "source": [
    "mtConf = confusion_matrix(y_test, y_pred)\n",
    "disp = ConfusionMatrixDisplay(confusion_matrix=mtConf, display_labels=svmModel.classes_)\n",
    "disp.plot(cmap='plasma')\n",
    "plt.tight_layout(rect=(0,0,2,2))\n",
    "plt.show()"
   ]
  },
  {
   "cell_type": "code",
   "execution_count": 110,
   "metadata": {},
   "outputs": [
    {
     "data": {
      "text/plain": [
       "SVC(C=1, degree=1, gamma=30, kernel='poly')"
      ]
     },
     "execution_count": 110,
     "metadata": {},
     "output_type": "execute_result"
    }
   ],
   "source": [
    "# show configuration of the best\n",
    "svmModel.best_estimator_"
   ]
  },
  {
   "cell_type": "markdown",
   "metadata": {},
   "source": [
    "## Linear Discriminant Analysis: Cancern dataset"
   ]
  },
  {
   "cell_type": "code",
   "execution_count": 111,
   "metadata": {},
   "outputs": [],
   "source": [
    "# Task 3\n",
    "# Using the LDA from scikit learn\n",
    "from sklearn.discriminant_analysis import LinearDiscriminantAnalysis\n",
    "lda = LinearDiscriminantAnalysis()"
   ]
  },
  {
   "cell_type": "code",
   "execution_count": 112,
   "metadata": {},
   "outputs": [
    {
     "name": "stdout",
     "output_type": "stream",
     "text": [
      "              precision    recall  f1-score   support\n",
      "\n",
      "           0       0.92      0.79      0.85        42\n",
      "           1       0.88      0.96      0.92        72\n",
      "\n",
      "    accuracy                           0.89       114\n",
      "   macro avg       0.90      0.87      0.88       114\n",
      "weighted avg       0.90      0.89      0.89       114\n",
      "\n"
     ]
    },
    {
     "data": {
      "image/png": "[encoded data removed]",
      "text/plain": [
       "<Figure size 432x288 with 2 Axes>"
      ]
     },
     "metadata": {
      "needs_background": "light"
     },
     "output_type": "display_data"
    }
   ],
   "source": [
    "# build LDA model\n",
    "lda.fit(X_train, y_train)\n",
    "\n",
    "# predict\n",
    "y_pred =lda.predict(X_test)\n",
    "\n",
    "# show results\n",
    "print(classification_report(y_test, y_pred))\n",
    "\n",
    "mtConf = confusion_matrix(y_test, y_pred)\n",
    "disp = ConfusionMatrixDisplay(confusion_matrix=mtConf, display_labels=lda.classes_)\n",
    "disp.plot(cmap='plasma')\n",
    "plt.tight_layout(rect=(0,0,2,2))\n",
    "plt.show()\n",
    "\n"
   ]
  },
  {
   "cell_type": "markdown",
   "metadata": {},
   "source": [
    "***********"
   ]
  },
  {
   "cell_type": "markdown",
   "metadata": {},
   "source": [
    "[Return to Table of Contents](#TableOfContents)"
   ]
  },
  {
   "cell_type": "markdown",
   "metadata": {},
   "source": [
    "## Cancern dataset all features"
   ]
  },
  {
   "cell_type": "code",
   "execution_count": 113,
   "metadata": {},
   "outputs": [],
   "source": [
    "# let us split the whole data into training and testing \n",
    "X_train, X_test, y_train, y_test = train_test_split(cancer_pd, labels, test_size=0.2, stratify=labels, random_state=20)\n"
   ]
  },
  {
   "cell_type": "code",
   "execution_count": 114,
   "metadata": {},
   "outputs": [
    {
     "name": "stdout",
     "output_type": "stream",
     "text": [
      "Execution time: 0.01 minutes\n",
      "              precision    recall  f1-score   support\n",
      "\n",
      "           0       0.98      0.95      0.96        42\n",
      "           1       0.97      0.99      0.98        72\n",
      "\n",
      "    accuracy                           0.97       114\n",
      "   macro avg       0.97      0.97      0.97       114\n",
      "weighted avg       0.97      0.97      0.97       114\n",
      "\n"
     ]
    },
    {
     "data": {
      "image/png": "[encoded data removed]",
      "text/plain": [
       "<Figure size 432x288 with 2 Axes>"
      ]
     },
     "metadata": {
      "needs_background": "light"
     },
     "output_type": "display_data"
    }
   ],
   "source": [
    "\n",
    "# values to finetune svm\n",
    "Cs     = [0.1, 0.5, 1 ]\n",
    "gms    = [10, 30, 'auto', 'scale' ]\n",
    "\n",
    "# dict parameters\n",
    "param = {'C': Cs, 'gamma': gms, 'kernel': ['rbf']}\n",
    "\n",
    "# instantiate the gridsearch method ( estimator, param, cv, scoring )\n",
    "svmModel = GridSearchCV(SVC(), param_grid = param, cv=5, scoring='accuracy')\n",
    "\n",
    "mnmx = MinMaxScaler().fit(X_train)\n",
    "\n",
    "start = time.time() \n",
    "svmModel.fit(mnmx.transform(X_train), y_train)\n",
    "end = time.time()\n",
    "\n",
    "#Execution time\n",
    "total_time = end - start\n",
    "print(\"Execution time: %0.2f minutes\"%(total_time/60.0))\n",
    "\n",
    "\n",
    "# report the results using testing data\n",
    "y_pred = svmModel.predict(mnmx.transform(X_test))\n",
    "print(classification_report(y_test, y_pred))\n",
    "\n",
    "\n",
    "mtConf = confusion_matrix(y_test, y_pred)\n",
    "disp = ConfusionMatrixDisplay(confusion_matrix=mtConf, display_labels=lda.classes_)\n",
    "disp.plot(cmap='plasma')\n",
    "plt.tight_layout(rect=(0,0,2,2))\n",
    "plt.show()\n",
    "\n"
   ]
  },
  {
   "cell_type": "code",
   "execution_count": 115,
   "metadata": {},
   "outputs": [
    {
     "name": "stdout",
     "output_type": "stream",
     "text": [
      "              precision    recall  f1-score   support\n",
      "\n",
      "           0       0.98      0.95      0.96        42\n",
      "           1       0.97      0.99      0.98        72\n",
      "\n",
      "    accuracy                           0.97       114\n",
      "   macro avg       0.97      0.97      0.97       114\n",
      "weighted avg       0.97      0.97      0.97       114\n",
      "\n"
     ]
    },
    {
     "data": {
      "image/png": "[encoded data removed]",
      "text/plain": [
       "<Figure size 432x288 with 2 Axes>"
      ]
     },
     "metadata": {
      "needs_background": "light"
     },
     "output_type": "display_data"
    }
   ],
   "source": [
    "# let us use higher features using a transformer and report the classification above\n",
    "# instantiate a model \n",
    "modelLg = make_pipeline(PowerTransformer(), LogisticRegression( ))\n",
    "\n",
    "# train the model\n",
    "modelLg.fit(X_train.values, y_train)\n",
    "\n",
    "# report the results using testing data\n",
    "y_pred = modelLg.predict(X_test.values)\n",
    "\n",
    "print(classification_report(y_test, y_pred))\n",
    "\n",
    "mtConf = confusion_matrix(y_test, y_pred)\n",
    "disp = ConfusionMatrixDisplay(confusion_matrix=mtConf, display_labels=lda.classes_)\n",
    "disp.plot(cmap='plasma')\n",
    "plt.tight_layout(rect=(0,0,2,2))\n",
    "plt.show()\n"
   ]
  },
  {
   "cell_type": "code",
   "execution_count": 116,
   "metadata": {},
   "outputs": [
    {
     "name": "stdout",
     "output_type": "stream",
     "text": [
      "              precision    recall  f1-score   support\n",
      "\n",
      "           0       1.00      0.86      0.92        42\n",
      "           1       0.92      1.00      0.96        72\n",
      "\n",
      "    accuracy                           0.95       114\n",
      "   macro avg       0.96      0.93      0.94       114\n",
      "weighted avg       0.95      0.95      0.95       114\n",
      "\n"
     ]
    },
    {
     "data": {
      "image/png": "[encoded data removed]",
      "text/plain": [
       "<Figure size 432x288 with 2 Axes>"
      ]
     },
     "metadata": {
      "needs_background": "light"
     },
     "output_type": "display_data"
    }
   ],
   "source": [
    "# build LDA model\n",
    "lda.fit(X_train, y_train)\n",
    "\n",
    "# predict\n",
    "y_pred =lda.predict(X_test)\n",
    "\n",
    "# show results\n",
    "print(classification_report(y_test, y_pred))\n",
    "\n",
    "mtConf = confusion_matrix(y_test, y_pred)\n",
    "disp = ConfusionMatrixDisplay(confusion_matrix=mtConf, display_labels=lda.classes_)\n",
    "disp.plot(cmap='plasma')\n",
    "plt.tight_layout(rect=(0,0,2,2))\n",
    "plt.show()\n",
    "\n"
   ]
  },
  {
   "cell_type": "markdown",
   "metadata": {},
   "source": [
    "************"
   ]
  },
  {
   "cell_type": "markdown",
   "metadata": {},
   "source": [
    "[TOP](#TableOfContents)"
   ]
  },
  {
   "cell_type": "markdown",
   "metadata": {},
   "source": [
    "[Current SKlearn (V 1.1.0) Documentation](https://scikit-learn.org/stable/user_guide.html)"
   ]
  },
  {
   "cell_type": "code",
   "execution_count": null,
   "metadata": {},
   "outputs": [],
   "source": []
  }
 ],
 "metadata": {
  "kernelspec": {
   "display_name": "Python 3 (ipykernel)",
   "language": "python",
   "name": "python3"
  },
  "language_info": {
   "codemirror_mode": {
    "name": "ipython",
    "version": 3
   },
   "file_extension": ".py",
   "mimetype": "text/x-python",
   "name": "python",
   "nbconvert_exporter": "python",
   "pygments_lexer": "ipython3",
   "version": "3.9.7"
  },
  "toc": {
   "base_numbering": 1,
   "nav_menu": {},
   "number_sections": true,
   "sideBar": true,
   "skip_h1_title": false,
   "title_cell": "Table of Contents",
   "title_sidebar": "Contents",
   "toc_cell": false,
   "toc_position": {},
   "toc_section_display": true,
   "toc_window_display": false
  },
  "varInspector": {
   "cols": {
    "lenName": 16,
    "lenType": 16,
    "lenVar": 40
   },
   "kernels_config": {
    "python": {
     "delete_cmd_postfix": "",
     "delete_cmd_prefix": "del ",
     "library": "var_list.py",
     "varRefreshCmd": "print(var_dic_list())"
    },
    "r": {
     "delete_cmd_postfix": ") ",
     "delete_cmd_prefix": "rm(",
     "library": "var_list.r",
     "varRefreshCmd": "cat(var_dic_list()) "
    }
   },
   "types_to_exclude": [
    "module",
    "function",
    "builtin_function_or_method",
    "instance",
    "_Feature"
   ],
   "window_display": false
  }
 },
 "nbformat": 4,
 "nbformat_minor": 4
}
